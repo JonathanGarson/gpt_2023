{
 "cells": [
  {
   "attachments": {},
   "cell_type": "markdown",
   "metadata": {},
   "source": [
    "# Clean Extraction Method"
   ]
  },
  {
   "attachments": {},
   "cell_type": "markdown",
   "metadata": {},
   "source": [
    "This notebook is just a cleaner version of \"extraction_data.ipynb\", its objective is to provide a clearer methodology of data generation. Though, it is not certain that it will cover all the materials that \"extraction_data.ipynb\" covered. Then, take it as a complement for the ease of the lector rather than a subsitute for the developper."
   ]
  },
  {
   "attachments": {},
   "cell_type": "markdown",
   "metadata": {},
   "source": [
    "## Sample_2023_with_txt"
   ]
  },
  {
   "attachments": {},
   "cell_type": "markdown",
   "metadata": {},
   "source": [
    "This how we generated the data set sample_2023_woth_txt"
   ]
  },
  {
   "attachments": {},
   "cell_type": "markdown",
   "metadata": {},
   "source": [
    "First we generate the file with the sample of interest"
   ]
  },
  {
   "cell_type": "code",
   "execution_count": 152,
   "metadata": {},
   "outputs": [
    {
     "name": "stdout",
     "output_type": "stream",
     "text": [
      "<class 'pandas.core.frame.DataFrame'>\n",
      "RangeIndex: 124 entries, 0 to 123\n",
      "Data columns (total 18 columns):\n",
      " #   Column                        Non-Null Count  Dtype         \n",
      "---  ------                        --------------  -----         \n",
      " 0   UrlLegifrance                 124 non-null    object        \n",
      " 1   Entreprise                    124 non-null    object        \n",
      " 2   Siret                         124 non-null    int64         \n",
      " 3   Secteur                       124 non-null    object        \n",
      " 4   Nature                        124 non-null    object        \n",
      " 5   Titre                         124 non-null    object        \n",
      " 6   Naf732                        124 non-null    object        \n",
      " 7   Date Texte                    124 non-null    datetime64[ns]\n",
      " 8   Date Maj                      124 non-null    datetime64[ns]\n",
      " 9   Date Dépot                    124 non-null    datetime64[ns]\n",
      " 10  Date diffusion                124 non-null    datetime64[ns]\n",
      " 11  Date fin                      124 non-null    object        \n",
      " 12  LesSyndicats                  124 non-null    object        \n",
      " 13  LesThemes                     124 non-null    object        \n",
      " 14  type                          124 non-null    object        \n",
      " 15  Tranche Effectif(Base siren)  124 non-null    object        \n",
      " 16  Fichier                       124 non-null    object        \n",
      " 17  ID                            124 non-null    object        \n",
      "dtypes: datetime64[ns](4), int64(1), object(13)\n",
      "memory usage: 17.6+ KB\n",
      "None\n"
     ]
    }
   ],
   "source": [
    "import pandas as pd\n",
    "\n",
    "def import_sample(file, format:str, begin=None, end=None):\n",
    "    if format == 'excel':\n",
    "        df = pd.read_excel(file).iloc[begin:end]\n",
    "        print(df.info())\n",
    "        return df\n",
    "    elif format == 'csv':\n",
    "        df = pd.read_csv(file).iloc[begin:end]\n",
    "        print(df.info())\n",
    "        return df\n",
    "    else:\n",
    "        print('Please provide a valid format (excel or csv)')\n",
    "\n",
    "df_samp = import_sample(r'C:\\Users\\garsonj\\Desktop\\spacy_finetuning\\spacy_files\\data\\training_xlsx\\sample2023.xlsx', 'excel', 0, 124)"
   ]
  },
  {
   "cell_type": "code",
   "execution_count": 153,
   "metadata": {},
   "outputs": [
    {
     "name": "stdout",
     "output_type": "stream",
     "text": [
      "<class 'pandas.core.frame.DataFrame'>\n",
      "RangeIndex: 124 entries, 0 to 123\n",
      "Data columns (total 8 columns):\n",
      " #   Column                        Non-Null Count  Dtype         \n",
      "---  ------                        --------------  -----         \n",
      " 0   UrlLegifrance                 124 non-null    object        \n",
      " 1   Entreprise                    124 non-null    object        \n",
      " 2   Siret                         124 non-null    int64         \n",
      " 3   Secteur                       124 non-null    object        \n",
      " 4   Naf732                        124 non-null    object        \n",
      " 5   Date Texte                    124 non-null    datetime64[ns]\n",
      " 6   Tranche Effectif(Base siren)  124 non-null    object        \n",
      " 7   Fichier                       124 non-null    object        \n",
      "dtypes: datetime64[ns](1), int64(1), object(6)\n",
      "memory usage: 7.9+ KB\n"
     ]
    }
   ],
   "source": [
    "df_samp.columns\n",
    "df_samp_final = df_samp[[\n",
    "    'UrlLegifrance', \n",
    "    'Entreprise', \n",
    "    'Siret', \n",
    "    'Secteur', \n",
    "    # 'Nature', \n",
    "    # 'Titre',\n",
    "    'Naf732', \n",
    "    'Date Texte', \n",
    "    # 'Date Maj', \n",
    "    # 'Date Dépot', \n",
    "    # 'Date diffusion',\n",
    "    # 'Date fin', \n",
    "    # 'LesSyndicats', \n",
    "    # 'LesThemes', \n",
    "    # 'type',\n",
    "    'Tranche Effectif(Base siren)', \n",
    "    'Fichier', \n",
    "    # 'ID'\n",
    "    ]].copy()\n",
    "df_samp_final.info()"
   ]
  },
  {
   "cell_type": "code",
   "execution_count": 154,
   "metadata": {},
   "outputs": [],
   "source": [
    "# Add a column for the application year\n",
    "df_samp_final[\"Année d'application NAO\"] = 2023\n",
    "df_samp_final[\"code\"] = df_samp_final[\"Fichier\"].str.slice(101,113)\n",
    "df_samp_final.head(10)\n",
    "\n",
    "# Reorder the columns\n",
    "df_samp_final.columns\n",
    "df_samp_final = df_samp_final[[\n",
    "    # 'UrlLegifrance',\n",
    "    'code',\n",
    "    'Entreprise', \n",
    "    'Siret', \n",
    "    'Secteur', \n",
    "    'Naf732', \n",
    "    'Date Texte',\n",
    "    \"Année d'application NAO\",\n",
    "    'Tranche Effectif(Base siren)', \n",
    "    ]].copy()\n",
    "\n",
    "# Rename the columns\n",
    "df_samp_final.columns = [\"code\",\"Nom de l'entreprise\", \"Siret\", \"Sous secteur Secafi\", \"Code NAF\", \"Date de l'accord du texte\", \"Année d'application NAO\", \"Tranche Effectif (Base siren)\"]\n",
    "\n",
    "df_samp_final.head(10)\n",
    "df_samp_final.to_excel(r\"C:\\Users\\garsonj\\Desktop\\spacy_finetuning\\spacy_files\\data\\training_xlsx\\sample_2023_no_txt.xlsx\", index=False)"
   ]
  },
  {
   "attachments": {},
   "cell_type": "markdown",
   "metadata": {},
   "source": [
    "Second we create the file with the corresponding code txt"
   ]
  },
  {
   "cell_type": "code",
   "execution_count": 122,
   "metadata": {},
   "outputs": [
    {
     "data": {
      "text/html": [
       "<div>\n",
       "<style scoped>\n",
       "    .dataframe tbody tr th:only-of-type {\n",
       "        vertical-align: middle;\n",
       "    }\n",
       "\n",
       "    .dataframe tbody tr th {\n",
       "        vertical-align: top;\n",
       "    }\n",
       "\n",
       "    .dataframe thead th {\n",
       "        text-align: right;\n",
       "    }\n",
       "</style>\n",
       "<table border=\"1\" class=\"dataframe\">\n",
       "  <thead>\n",
       "    <tr style=\"text-align: right;\">\n",
       "      <th></th>\n",
       "      <th>UrlLegifrance</th>\n",
       "      <th>code</th>\n",
       "      <th>Fichier</th>\n",
       "    </tr>\n",
       "  </thead>\n",
       "  <tbody>\n",
       "    <tr>\n",
       "      <th>0</th>\n",
       "      <td>https://www.legifrance.gouv.fr/acco/id/ACCOTEX...</td>\n",
       "      <td>T04123002443</td>\n",
       "      <td>\\\\proapp20\\PROAPP20_SQL_FILES\\LAC_DONNEES\\LEGI...</td>\n",
       "    </tr>\n",
       "    <tr>\n",
       "      <th>1</th>\n",
       "      <td>https://www.legifrance.gouv.fr/acco/id/ACCOTEX...</td>\n",
       "      <td>T09323011189</td>\n",
       "      <td>\\\\proapp20\\PROAPP20_SQL_FILES\\LAC_DONNEES\\LEGI...</td>\n",
       "    </tr>\n",
       "    <tr>\n",
       "      <th>2</th>\n",
       "      <td>https://www.legifrance.gouv.fr/acco/id/ACCOTEX...</td>\n",
       "      <td>T00123005502</td>\n",
       "      <td>\\\\proapp20\\PROAPP20_SQL_FILES\\LAC_DONNEES\\LEGI...</td>\n",
       "    </tr>\n",
       "    <tr>\n",
       "      <th>3</th>\n",
       "      <td>https://www.legifrance.gouv.fr/acco/id/ACCOTEX...</td>\n",
       "      <td>T03523012879</td>\n",
       "      <td>\\\\proapp20\\PROAPP20_SQL_FILES\\LAC_DONNEES\\LEGI...</td>\n",
       "    </tr>\n",
       "    <tr>\n",
       "      <th>4</th>\n",
       "      <td>https://www.legifrance.gouv.fr/acco/id/ACCOTEX...</td>\n",
       "      <td>T09023001693</td>\n",
       "      <td>\\\\proapp20\\PROAPP20_SQL_FILES\\LAC_DONNEES\\LEGI...</td>\n",
       "    </tr>\n",
       "  </tbody>\n",
       "</table>\n",
       "</div>"
      ],
      "text/plain": [
       "                                       UrlLegifrance          code  \\\n",
       "0  https://www.legifrance.gouv.fr/acco/id/ACCOTEX...  T04123002443   \n",
       "1  https://www.legifrance.gouv.fr/acco/id/ACCOTEX...  T09323011189   \n",
       "2  https://www.legifrance.gouv.fr/acco/id/ACCOTEX...  T00123005502   \n",
       "3  https://www.legifrance.gouv.fr/acco/id/ACCOTEX...  T03523012879   \n",
       "4  https://www.legifrance.gouv.fr/acco/id/ACCOTEX...  T09023001693   \n",
       "\n",
       "                                             Fichier  \n",
       "0  \\\\proapp20\\PROAPP20_SQL_FILES\\LAC_DONNEES\\LEGI...  \n",
       "1  \\\\proapp20\\PROAPP20_SQL_FILES\\LAC_DONNEES\\LEGI...  \n",
       "2  \\\\proapp20\\PROAPP20_SQL_FILES\\LAC_DONNEES\\LEGI...  \n",
       "3  \\\\proapp20\\PROAPP20_SQL_FILES\\LAC_DONNEES\\LEGI...  \n",
       "4  \\\\proapp20\\PROAPP20_SQL_FILES\\LAC_DONNEES\\LEGI...  "
      ]
     },
     "execution_count": 122,
     "metadata": {},
     "output_type": "execute_result"
    }
   ],
   "source": [
    "import pandas as pd\n",
    "import numpy as np\n",
    "\n",
    "# Read in the data\n",
    "df_sample = pd.read_excel(r\"C:\\Users\\garsonj\\Desktop\\spacy_finetuning\\spacy_files\\data\\training_xlsx\\sample2023.xlsx\") # this sample has been directly extracted from Qlik Sense plateform\n",
    "\n",
    "# We select the columns we want to keep\n",
    "df_sample = df_sample[[\n",
    "    'UrlLegifrance', \n",
    "    # 'Entreprise', \n",
    "    # 'Siret', \n",
    "    # 'Secteur', \n",
    "    # 'Nature', \n",
    "    # 'Titre',\n",
    "    # 'Naf732', \n",
    "    # 'Date Texte', \n",
    "    # 'Date Maj', \n",
    "    # 'Date Dépot', \n",
    "    # 'Date diffusion',\n",
    "    # 'Date fin', \n",
    "    # 'LesSyndicats', \n",
    "    # 'LesThemes', \n",
    "    # 'type',\n",
    "    # 'Tranche Effectif(Base siren)', \n",
    "    'Fichier', \n",
    "    'ID'\n",
    "    ]].copy()\n",
    "\n",
    "# We create a new column with the ID shortened and the column reordered\n",
    "df_sample[\"code\"] = df_sample[\"Fichier\"].str.slice(101,113)\n",
    "df_sample = df_sample[['UrlLegifrance', 'code','Fichier']].copy()\n",
    "df_sample.head()"
   ]
  },
  {
   "attachments": {},
   "cell_type": "markdown",
   "metadata": {},
   "source": [
    "Our objective now is to extract the texts stored on our local data center."
   ]
  },
  {
   "cell_type": "code",
   "execution_count": 123,
   "metadata": {},
   "outputs": [],
   "source": [
    "# We create a list of the unique ID_b and write in a doc file\n",
    "\n",
    "def write_column_to_txt(df, column, path):\n",
    "    \"\"\"\n",
    "    Write the content of a column of a dataframe in a txt file\n",
    "\n",
    "    Args:\n",
    "        df (dataframe): the dataframe\n",
    "        column (str): the column to write\n",
    "        path (str): the path of the txt file\n",
    "    \"\"\"\n",
    "    with open(path, 'w') as f:\n",
    "        for item in df[column].unique():\n",
    "            f.write(\"%s\\n\" % item)\n",
    "\n",
    "write_column_to_txt(df_sample, \"Fichier\", r\"C:\\Users\\garsonj\\Desktop\\spacy_finetuning\\spacy_files\\docx\\2022_2023\\sample_2023\\Liste.txt\")"
   ]
  },
  {
   "attachments": {},
   "cell_type": "markdown",
   "metadata": {},
   "source": [
    "We download each of the txt files, we have to do this manually, since the program doesn't provide me access"
   ]
  },
  {
   "attachments": {},
   "cell_type": "markdown",
   "metadata": {},
   "source": [
    "Now we convert each of this text to the txt format, for that we can use the two following scripts : convert_to_txt_V2.py and clean_txt.py"
   ]
  },
  {
   "cell_type": "code",
   "execution_count": 135,
   "metadata": {},
   "outputs": [
    {
     "data": {
      "text/plain": [
       "CompletedProcess(args=['python', 'C:\\\\Users\\\\garsonj\\\\Desktop\\\\spacy_finetuning\\\\spacy_files\\\\script\\\\clean_txt.py'], returncode=0)"
      ]
     },
     "execution_count": 135,
     "metadata": {},
     "output_type": "execute_result"
    }
   ],
   "source": [
    "import subprocess\n",
    "import os\n",
    "\n",
    "# Specify the path to the folder containing the Python scripts\n",
    "script_folder = r\"C:\\Users\\garsonj\\Desktop\\spacy_finetuning\\spacy_files\\script\"\n",
    "\n",
    "# Define the names of the Python scripts you want to run\n",
    "script1_name = \"convert_to_txt_V2.py\"\n",
    "script2_name = \"clean_txt.py\"\n",
    "\n",
    "# Build the full paths to the script files\n",
    "script1_path = os.path.join(script_folder, script1_name)\n",
    "script2_path = os.path.join(script_folder, script2_name)\n",
    "\n",
    "# Run the first script\n",
    "subprocess.run([\"python\", script1_path])\n",
    "\n",
    "# Run the second script\n",
    "subprocess.run([\"python\", script2_path])"
   ]
  },
  {
   "attachments": {},
   "cell_type": "markdown",
   "metadata": {},
   "source": [
    "Now we can do a data set out of the document and match their ID to the one of our sample"
   ]
  },
  {
   "cell_type": "code",
   "execution_count": 3,
   "metadata": {},
   "outputs": [
    {
     "data": {
      "application/vnd.jupyter.widget-view+json": {
       "model_id": "51a4f78041dc4a14aa6427e870460b32",
       "version_major": 2,
       "version_minor": 0
      },
      "text/plain": [
       "  0%|          | 0/498 [00:00<?, ?it/s]"
      ]
     },
     "metadata": {},
     "output_type": "display_data"
    }
   ],
   "source": [
    "import glob\n",
    "import pandas as pd\n",
    "import os\n",
    "from tqdm.notebook import tqdm\n",
    "\n",
    "directory = glob.glob(r\"C:\\Users\\garsonj\\Desktop\\spacy_finetuning\\spacy_files\\data\\docx\\2017_2021\\Subset_1\\text\\*.txt\")\n",
    "\n",
    "# iniate an empty dataframe\n",
    "\n",
    "final_df = pd.DataFrame()\n",
    "\n",
    "for file in tqdm(directory):\n",
    "    # collect the file name and store it in a list\n",
    "    file_name = os.path.basename(file)[:-19]\n",
    "    \n",
    "    # collect the file content and store it in a list\n",
    "    collected_text = []\n",
    "    with open(file, 'r', encoding='utf-8') as f:\n",
    "        text = f.read()\n",
    "        collected_text.append(text)\n",
    "\n",
    "    df = pd.DataFrame(collected_text , columns=['text'])\n",
    "    df.insert(0, 'code', file_name)\n",
    "    final_df = pd.concat([final_df, df], ignore_index=True)\n",
    "\n",
    "final_df.to_excel(r\"C:\\Users\\garsonj\\Desktop\\spacy_finetuning\\spacy_files\\data\\training_xlsx\\sample_2017_2021_sub1.xlsx\", index=False)"
   ]
  },
  {
   "attachments": {},
   "cell_type": "markdown",
   "metadata": {},
   "source": [
    "## Extraction and matching of text for a sample"
   ]
  },
  {
   "attachments": {},
   "cell_type": "markdown",
   "metadata": {},
   "source": [
    "We build on what we did for the NAO 2023 to extract and matcht the text with their respective contract"
   ]
  },
  {
   "cell_type": "code",
   "execution_count": 127,
   "metadata": {},
   "outputs": [
    {
     "data": {
      "text/html": [
       "<div>\n",
       "<style scoped>\n",
       "    .dataframe tbody tr th:only-of-type {\n",
       "        vertical-align: middle;\n",
       "    }\n",
       "\n",
       "    .dataframe tbody tr th {\n",
       "        vertical-align: top;\n",
       "    }\n",
       "\n",
       "    .dataframe thead th {\n",
       "        text-align: right;\n",
       "    }\n",
       "</style>\n",
       "<table border=\"1\" class=\"dataframe\">\n",
       "  <thead>\n",
       "    <tr style=\"text-align: right;\">\n",
       "      <th></th>\n",
       "      <th>code</th>\n",
       "      <th>Nom de l'entreprise</th>\n",
       "      <th>Siret</th>\n",
       "      <th>Sous secteur Secafi</th>\n",
       "      <th>Code NAF</th>\n",
       "      <th>Date de l'accord du texte</th>\n",
       "      <th>Année d'application NAO</th>\n",
       "      <th>Tranche Effectif (Base siren)</th>\n",
       "    </tr>\n",
       "  </thead>\n",
       "  <tbody>\n",
       "    <tr>\n",
       "      <th>0</th>\n",
       "      <td>T04123002443</td>\n",
       "      <td>BORGWARNER FRANCE SAS</td>\n",
       "      <td>44015608100166</td>\n",
       "      <td>Fabrication d'autres équipements automobiles</td>\n",
       "      <td>2932Z</td>\n",
       "      <td>2023-01-17</td>\n",
       "      <td>2023</td>\n",
       "      <td>1 000 à 1 999 salariés</td>\n",
       "    </tr>\n",
       "    <tr>\n",
       "      <th>1</th>\n",
       "      <td>T09323011189</td>\n",
       "      <td>APTIV HOLDINGS FRANCE SAS</td>\n",
       "      <td>44025262500072</td>\n",
       "      <td>Fabrication d'équipements électriques et élect...</td>\n",
       "      <td>2931Z</td>\n",
       "      <td>2023-01-27</td>\n",
       "      <td>2023</td>\n",
       "      <td>100 à 199 salariés</td>\n",
       "    </tr>\n",
       "    <tr>\n",
       "      <th>2</th>\n",
       "      <td>T00123005502</td>\n",
       "      <td>NP BRION</td>\n",
       "      <td>38388720500037</td>\n",
       "      <td>Fabrication d'autres équipements automobiles</td>\n",
       "      <td>2932Z</td>\n",
       "      <td>2023-01-27</td>\n",
       "      <td>2023</td>\n",
       "      <td>50 à 99 salariés</td>\n",
       "    </tr>\n",
       "    <tr>\n",
       "      <th>3</th>\n",
       "      <td>T03523012879</td>\n",
       "      <td>COCKPIT AUTOMOTIVE SYSTEMS</td>\n",
       "      <td>81407181700013</td>\n",
       "      <td>Fabrication d'autres équipements automobiles</td>\n",
       "      <td>2932Z</td>\n",
       "      <td>2023-02-01</td>\n",
       "      <td>2023</td>\n",
       "      <td>100 à 199 salariés</td>\n",
       "    </tr>\n",
       "    <tr>\n",
       "      <th>4</th>\n",
       "      <td>T09023001693</td>\n",
       "      <td>TRECIA</td>\n",
       "      <td>41321416400068</td>\n",
       "      <td>Fabrication d'autres équipements automobiles</td>\n",
       "      <td>2932Z</td>\n",
       "      <td>2023-02-02</td>\n",
       "      <td>2023</td>\n",
       "      <td>200 à 249 salariés</td>\n",
       "    </tr>\n",
       "  </tbody>\n",
       "</table>\n",
       "</div>"
      ],
      "text/plain": [
       "           code         Nom de l'entreprise           Siret  \\\n",
       "0  T04123002443       BORGWARNER FRANCE SAS  44015608100166   \n",
       "1  T09323011189   APTIV HOLDINGS FRANCE SAS  44025262500072   \n",
       "2  T00123005502                    NP BRION  38388720500037   \n",
       "3  T03523012879  COCKPIT AUTOMOTIVE SYSTEMS  81407181700013   \n",
       "4  T09023001693                      TRECIA  41321416400068   \n",
       "\n",
       "                                 Sous secteur Secafi Code NAF  \\\n",
       "0       Fabrication d'autres équipements automobiles    2932Z   \n",
       "1  Fabrication d'équipements électriques et élect...    2931Z   \n",
       "2       Fabrication d'autres équipements automobiles    2932Z   \n",
       "3       Fabrication d'autres équipements automobiles    2932Z   \n",
       "4       Fabrication d'autres équipements automobiles    2932Z   \n",
       "\n",
       "  Date de l'accord du texte  Année d'application NAO  \\\n",
       "0                2023-01-17                     2023   \n",
       "1                2023-01-27                     2023   \n",
       "2                2023-01-27                     2023   \n",
       "3                2023-02-01                     2023   \n",
       "4                2023-02-02                     2023   \n",
       "\n",
       "  Tranche Effectif (Base siren)  \n",
       "0        1 000 à 1 999 salariés  \n",
       "1            100 à 199 salariés  \n",
       "2              50 à 99 salariés  \n",
       "3            100 à 199 salariés  \n",
       "4            200 à 249 salariés  "
      ]
     },
     "execution_count": 127,
     "metadata": {},
     "output_type": "execute_result"
    }
   ],
   "source": [
    "import pandas as pd\n",
    "import numpy as np\n",
    "\n",
    "df = pd.read_excel(r\"C:\\Users\\garsonj\\Desktop\\spacy_finetuning\\spacy_files\\data\\training_xlsx\\sample_2023_no_txt.xlsx\")\n",
    "df.head()"
   ]
  },
  {
   "attachments": {},
   "cell_type": "markdown",
   "metadata": {},
   "source": [
    "We match it with our text data set"
   ]
  },
  {
   "cell_type": "code",
   "execution_count": 128,
   "metadata": {},
   "outputs": [
    {
     "data": {
      "text/html": [
       "<div>\n",
       "<style scoped>\n",
       "    .dataframe tbody tr th:only-of-type {\n",
       "        vertical-align: middle;\n",
       "    }\n",
       "\n",
       "    .dataframe tbody tr th {\n",
       "        vertical-align: top;\n",
       "    }\n",
       "\n",
       "    .dataframe thead th {\n",
       "        text-align: right;\n",
       "    }\n",
       "</style>\n",
       "<table border=\"1\" class=\"dataframe\">\n",
       "  <thead>\n",
       "    <tr style=\"text-align: right;\">\n",
       "      <th></th>\n",
       "      <th>code</th>\n",
       "      <th>text</th>\n",
       "    </tr>\n",
       "  </thead>\n",
       "  <tbody>\n",
       "    <tr>\n",
       "      <th>0</th>\n",
       "      <td>T00123005502</td>\n",
       "      <td>accord conclu dans le cadre de la negociation...</td>\n",
       "    </tr>\n",
       "    <tr>\n",
       "      <th>1</th>\n",
       "      <td>T00123005519</td>\n",
       "      <td>proces verbal d’accord négociation annuelle ob...</td>\n",
       "    </tr>\n",
       "    <tr>\n",
       "      <th>2</th>\n",
       "      <td>T00123005542</td>\n",
       "      <td>accord annuel d’entreprise février 2023  ent...</td>\n",
       "    </tr>\n",
       "    <tr>\n",
       "      <th>3</th>\n",
       "      <td>T00123005685</td>\n",
       "      <td>accord suite aux negociations salariales de l’...</td>\n",
       "    </tr>\n",
       "    <tr>\n",
       "      <th>4</th>\n",
       "      <td>T00123006090</td>\n",
       "      <td>procès-verbal d’ouverture des négociations (l...</td>\n",
       "    </tr>\n",
       "    <tr>\n",
       "      <th>...</th>\n",
       "      <td>...</td>\n",
       "      <td>...</td>\n",
       "    </tr>\n",
       "    <tr>\n",
       "      <th>117</th>\n",
       "      <td>T59L23019588</td>\n",
       "      <td>accord annuel sur les rémunérations, le temps ...</td>\n",
       "    </tr>\n",
       "    <tr>\n",
       "      <th>118</th>\n",
       "      <td>T59L23019742</td>\n",
       "      <td>accord d’entreprise relatif à la nao 2023 au s...</td>\n",
       "    </tr>\n",
       "    <tr>\n",
       "      <th>119</th>\n",
       "      <td>T59L23020348</td>\n",
       "      <td>accord relatif a la négociation annuelle oblig...</td>\n",
       "    </tr>\n",
       "    <tr>\n",
       "      <th>120</th>\n",
       "      <td>T59V23002772</td>\n",
       "      <td>accord de negociation annuelle obligatoire ...</td>\n",
       "    </tr>\n",
       "    <tr>\n",
       "      <th>121</th>\n",
       "      <td>T59V23003085</td>\n",
       "      <td>accord portant révision des dispositions appli...</td>\n",
       "    </tr>\n",
       "  </tbody>\n",
       "</table>\n",
       "<p>122 rows × 2 columns</p>\n",
       "</div>"
      ],
      "text/plain": [
       "             code                                               text\n",
       "0    T00123005502   accord conclu dans le cadre de la negociation...\n",
       "1    T00123005519  proces verbal d’accord négociation annuelle ob...\n",
       "2    T00123005542    accord annuel d’entreprise février 2023  ent...\n",
       "3    T00123005685  accord suite aux negociations salariales de l’...\n",
       "4    T00123006090   procès-verbal d’ouverture des négociations (l...\n",
       "..            ...                                                ...\n",
       "117  T59L23019588  accord annuel sur les rémunérations, le temps ...\n",
       "118  T59L23019742  accord d’entreprise relatif à la nao 2023 au s...\n",
       "119  T59L23020348  accord relatif a la négociation annuelle oblig...\n",
       "120  T59V23002772     accord de negociation annuelle obligatoire ...\n",
       "121  T59V23003085  accord portant révision des dispositions appli...\n",
       "\n",
       "[122 rows x 2 columns]"
      ]
     },
     "execution_count": 128,
     "metadata": {},
     "output_type": "execute_result"
    }
   ],
   "source": [
    "df_text = pd.read_excel(r\"C:\\Users\\garsonj\\Desktop\\spacy_finetuning\\spacy_files\\data\\training_xlsx\\sample2023_txt.xlsx\")\n",
    "df_text"
   ]
  },
  {
   "cell_type": "code",
   "execution_count": 129,
   "metadata": {},
   "outputs": [],
   "source": [
    "df_merged = pd.merge(df, df_text, on=\"code\", how='left')\n",
    "\n",
    "#Cleaning the dataframe\n",
    "df_merged.dropna(subset=['text'], inplace=True)\n",
    "df_merged['text'] = df_merged['text'].str.replace(r'^\\s+', '', regex=True)\n",
    "df_merged['text'] = df_merged['text'].str.replace(r'\\s+$', '', regex=True)\n",
    "\n",
    "# Reduce the data set to two three columns\n",
    "df_merged = df_merged[[\n",
    "    \"Nom de l'entreprise\", \n",
    "    'code', \n",
    "    # 'Siret', \n",
    "    # 'Sous secteur Secafi',\n",
    "    # 'Code NAF', \n",
    "    # \"Date de l'accord du texte\", \n",
    "    # \"Année d'application NAO\",\n",
    "    # 'Tranche Effectif (Base siren)', \n",
    "    'text'\n",
    "    ]].copy()\n",
    "\n",
    "df_merged.head()\n",
    "\n",
    "# Save the dataframe\n",
    "df_merged.to_excel(r\"C:\\Users\\garsonj\\Desktop\\spacy_finetuning\\spacy_files\\data\\training_xlsx\\sample2023_with_txt.xlsx\", index=False)"
   ]
  },
  {
   "attachments": {},
   "cell_type": "markdown",
   "metadata": {},
   "source": [
    "## Text and ID Dataset"
   ]
  },
  {
   "cell_type": "code",
   "execution_count": 1,
   "metadata": {},
   "outputs": [
    {
     "data": {
      "application/vnd.jupyter.widget-view+json": {
       "model_id": "6c7c2ce44cfd46c4abce84a0fd79393f",
       "version_major": 2,
       "version_minor": 0
      },
      "text/plain": [
       "  0%|          | 0/496 [00:00<?, ?it/s]"
      ]
     },
     "metadata": {},
     "output_type": "display_data"
    }
   ],
   "source": [
    "import glob\n",
    "import pandas as pd\n",
    "import os\n",
    "from tqdm.notebook import tqdm\n",
    "\n",
    "directory = glob.glob(r\"C:\\Users\\garsonj\\Desktop\\spacy_finetuning\\spacy_files\\data\\docx\\2022_2023\\2022_2023_all\\Subset_1\\text\\*.txt\")\n",
    "\n",
    "def cleaning_function(df):\n",
    "    df.dropna(subset=['text'], inplace=True)\n",
    "    df['text'] = df['text'].str.replace(r'^\\s+', '', regex=True)\n",
    "    df['text'] = df['text'].str.replace(r'\\s+$', '', regex=True)\n",
    "    return df\n",
    "\n",
    "# iniate an empty dataframe\n",
    "\n",
    "final_df = pd.DataFrame()\n",
    "\n",
    "for file in tqdm(directory):\n",
    "    # collect the file name and store it in a list\n",
    "    file_name = os.path.basename(file)[:-19]\n",
    "    \n",
    "    # collect the file content and store it in a list\n",
    "    collected_text = []\n",
    "    with open(file, 'r', encoding='utf-8') as f:\n",
    "        text = f.read()\n",
    "        collected_text.append(text)\n",
    "\n",
    "    df = pd.DataFrame(collected_text , columns=['text'])\n",
    "    df.insert(0, 'code', file_name)\n",
    "    final_df = pd.concat([final_df, df], ignore_index=True)\n",
    "\n",
    "final_df = cleaning_function(final_df)"
   ]
  },
  {
   "cell_type": "code",
   "execution_count": 2,
   "metadata": {},
   "outputs": [
    {
     "data": {
      "text/html": [
       "<div>\n",
       "<style scoped>\n",
       "    .dataframe tbody tr th:only-of-type {\n",
       "        vertical-align: middle;\n",
       "    }\n",
       "\n",
       "    .dataframe tbody tr th {\n",
       "        vertical-align: top;\n",
       "    }\n",
       "\n",
       "    .dataframe thead th {\n",
       "        text-align: right;\n",
       "    }\n",
       "</style>\n",
       "<table border=\"1\" class=\"dataframe\">\n",
       "  <thead>\n",
       "    <tr style=\"text-align: right;\">\n",
       "      <th></th>\n",
       "      <th>code</th>\n",
       "      <th>text</th>\n",
       "      <th>len</th>\n",
       "    </tr>\n",
       "  </thead>\n",
       "  <tbody>\n",
       "    <tr>\n",
       "      <th>0</th>\n",
       "      <td>T00122004154</td>\n",
       "      <td>proces verbal d’accord negociation annuelle su...</td>\n",
       "      <td>6491</td>\n",
       "    </tr>\n",
       "    <tr>\n",
       "      <th>1</th>\n",
       "      <td>T00122004270</td>\n",
       "      <td>negociation annuelle 2022  protocole d’accord ...</td>\n",
       "      <td>5308</td>\n",
       "    </tr>\n",
       "    <tr>\n",
       "      <th>2</th>\n",
       "      <td>T00122004501</td>\n",
       "      <td>negociation annuelle obligatoire 2022 proces v...</td>\n",
       "      <td>9122</td>\n",
       "    </tr>\n",
       "    <tr>\n",
       "      <th>3</th>\n",
       "      <td>T00122005293</td>\n",
       "      <td>entre d'une part, la société france air, socié...</td>\n",
       "      <td>8443</td>\n",
       "    </tr>\n",
       "    <tr>\n",
       "      <th>4</th>\n",
       "      <td>T00123005650</td>\n",
       "      <td>accord relatif aux négociations annuelles obli...</td>\n",
       "      <td>20850</td>\n",
       "    </tr>\n",
       "  </tbody>\n",
       "</table>\n",
       "</div>"
      ],
      "text/plain": [
       "           code                                               text    len\n",
       "0  T00122004154  proces verbal d’accord negociation annuelle su...   6491\n",
       "1  T00122004270  negociation annuelle 2022  protocole d’accord ...   5308\n",
       "2  T00122004501  negociation annuelle obligatoire 2022 proces v...   9122\n",
       "3  T00122005293  entre d'une part, la société france air, socié...   8443\n",
       "4  T00123005650  accord relatif aux négociations annuelles obli...  20850"
      ]
     },
     "execution_count": 2,
     "metadata": {},
     "output_type": "execute_result"
    }
   ],
   "source": [
    "final_df[\"len\"] = final_df[\"text\"].agg(lambda x: len(x))\n",
    "final_df.head()"
   ]
  },
  {
   "cell_type": "code",
   "execution_count": 3,
   "metadata": {},
   "outputs": [],
   "source": [
    "final_df.to_excel(r\"C:\\Users\\garsonj\\Desktop\\spacy_finetuning\\spacy_files\\data\\training_xlsx\\sample_2022_2023_sub1.xlsx\", index=False)"
   ]
  },
  {
   "cell_type": "code",
   "execution_count": null,
   "metadata": {},
   "outputs": [],
   "source": []
  }
 ],
 "metadata": {
  "kernelspec": {
   "display_name": "spacy_finetuning",
   "language": "python",
   "name": "python3"
  },
  "language_info": {
   "codemirror_mode": {
    "name": "ipython",
    "version": 3
   },
   "file_extension": ".py",
   "mimetype": "text/x-python",
   "name": "python",
   "nbconvert_exporter": "python",
   "pygments_lexer": "ipython3",
   "version": "3.11.6"
  },
  "orig_nbformat": 4
 },
 "nbformat": 4,
 "nbformat_minor": 2
}
