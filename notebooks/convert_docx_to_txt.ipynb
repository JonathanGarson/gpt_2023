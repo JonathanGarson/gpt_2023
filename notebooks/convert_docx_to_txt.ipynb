{
 "cells": [
  {
   "attachments": {},
   "cell_type": "markdown",
   "metadata": {},
   "source": [
    "# A function to automatically convert docx files into txt files"
   ]
  },
  {
   "cell_type": "code",
   "execution_count": 16,
   "metadata": {},
   "outputs": [
    {
     "name": "stderr",
     "output_type": "stream",
     "text": [
      "\n",
      "\u001b[A\n",
      "\u001b[A"
     ]
    },
    {
     "name": "stdout",
     "output_type": "stream",
     "text": [
      "le dossier est: ../data/text/docx\\T00122004154-49067581600022.docx a été converti\n",
      "le dossier est: ../data/text/docx\\T00122004270-89133697600024.docx a été converti\n",
      "le dossier est: ../data/text/docx\\T00122004501-40301066300025.docx a été converti\n",
      "le dossier est: ../data/text/docx\\T00122005293-37800602700015.docx a été converti\n",
      "le dossier est: ../data/text/docx\\T00123005650-84054058700028.docx a été converti\n",
      "le dossier est: ../data/text/docx\\T00222002175-78018581500013.docx a été converti\n",
      "le dossier est: ../data/text/docx\\T00222002241-50064698900011.docx a été converti\n"
     ]
    },
    {
     "name": "stderr",
     "output_type": "stream",
     "text": [
      "\n",
      "\u001b[A\n",
      "\n"
     ]
    },
    {
     "name": "stdout",
     "output_type": "stream",
     "text": [
      "le dossier est: ../data/text/docx\\T00222002781-31109848700284.docx a été converti\n",
      "le dossier est: ../data/text/docx\\T00322001933-80852349200011.docx a été converti\n",
      "le dossier est: ../data/text/docx\\T00323002703-70980567500028.docx a été converti\n",
      "le dossier est: ../data/text/docx\\T00422001012-39883422600035.docx a été converti\n",
      "le dossier est: ../data/text/docx\\T00622006532-77555201100386.docx a été converti\n"
     ]
    },
    {
     "name": "stderr",
     "output_type": "stream",
     "text": [
      "Extracting text from docx files:   2%|▏         | 12/496 [00:00<00:16, 29.07files/s]\u001b[A\u001b[A\n",
      "\u001b[A"
     ]
    },
    {
     "name": "stdout",
     "output_type": "stream",
     "text": [
      "le dossier est: ../data/text/docx\\T00622006634-44033947100011.docx a été converti\n",
      "le dossier est: ../data/text/docx\\T00623008141-40115504900034.docx a été converti\n",
      "le dossier est: ../data/text/docx\\T00623008180-84301263400021.docx a été converti\n",
      "le dossier est: ../data/text/docx\\T00623008719-79403021300019.docx a été converti\n",
      "le dossier est: ../data/text/docx\\T00623008821-51939811900015.docx a été converti\n",
      "le dossier est: ../data/text/docx\\T00722001429-31324277800055.docx a été converti\n",
      "le dossier est: ../data/text/docx\\T00822001291-78552018000031.docx a été converti\n",
      "le dossier est: ../data/text/docx\\T00822001308-78562072500032.docx a été converti\n",
      "le dossier est: ../data/text/docx\\T00823001645-78692002500024.docx a été converti\n"
     ]
    },
    {
     "name": "stderr",
     "output_type": "stream",
     "text": [
      "\n",
      "\u001b[A\n",
      "\u001b[A"
     ]
    },
    {
     "name": "stdout",
     "output_type": "stream",
     "text": [
      "le dossier est: ../data/text/docx\\T01022001819-77571821600887.docx a été converti\n",
      "le dossier est: ../data/text/docx\\T01023002294-77555526100186.docx a été converti\n",
      "le dossier est: ../data/text/docx\\T01122001744-68185012900070.docx a été converti\n",
      "le dossier est: ../data/text/docx\\T01122001796-83950519500033.docx a été converti\n",
      "le dossier est: ../data/text/docx\\T01122001807-85282836700031.docx a été converti\n",
      "le dossier est: ../data/text/docx\\T01222001595-38332907500030.docx a été converti\n"
     ]
    },
    {
     "name": "stderr",
     "output_type": "stream",
     "text": [
      "\n",
      "\u001b[A"
     ]
    },
    {
     "name": "stdout",
     "output_type": "stream",
     "text": [
      "le dossier est: ../data/text/docx\\T01222001631-42738003500027.docx a été converti\n",
      "le dossier est: ../data/text/docx\\T01322013754-34808659600015.docx a été converti\n",
      "le dossier est: ../data/text/docx\\T01322013847-34062036800068.docx a été converti\n",
      "le dossier est: ../data/text/docx\\T01322013979-51876746200022.docx a été converti\n"
     ]
    },
    {
     "name": "stderr",
     "output_type": "stream",
     "text": [
      "\n",
      "\u001b[A"
     ]
    },
    {
     "name": "stdout",
     "output_type": "stream",
     "text": [
      "le dossier est: ../data/text/docx\\T01322014142-40808670000023.docx a été converti\n",
      "le dossier est: ../data/text/docx\\T01322014146-64201670300208.docx a été converti\n",
      "le dossier est: ../data/text/docx\\T01322014412-33145462900030.docx a été converti\n",
      "le dossier est: ../data/text/docx\\T01322014576-77555867900012.docx a été converti\n",
      "le dossier est: ../data/text/docx\\T01322016530-44517467500014.docx a été converti\n"
     ]
    },
    {
     "name": "stderr",
     "output_type": "stream",
     "text": [
      "\n",
      "\u001b[A\n",
      "\u001b[A"
     ]
    },
    {
     "name": "stdout",
     "output_type": "stream",
     "text": [
      "le dossier est: ../data/text/docx\\T01322016663-45123824000035.docx a été converti\n",
      "le dossier est: ../data/text/docx\\T01322016698-63718080300016.docx a été converti\n",
      "le dossier est: ../data/text/docx\\T01323017144-68201407100075.docx a été converti\n",
      "le dossier est: ../data/text/docx\\T01323017254-42386465100017.docx a été converti\n",
      "le dossier est: ../data/text/docx\\T01323017338-81503782500024.docx a été converti\n",
      "le dossier est: ../data/text/docx\\T01323017535-54200119300698.docx a été converti\n",
      "le dossier est: ../data/text/docx\\T01422005326-40926878600020.docx a été converti\n"
     ]
    },
    {
     "name": "stderr",
     "output_type": "stream",
     "text": [
      "\n",
      "\u001b[A\n",
      "\u001b[A"
     ]
    },
    {
     "name": "stdout",
     "output_type": "stream",
     "text": [
      "le dossier est: ../data/text/docx\\T01422005422-78074317500025.docx a été converti\n",
      "le dossier est: ../data/text/docx\\T01422005659-33754393800019.docx a été converti\n",
      "le dossier est: ../data/text/docx\\T01422005693-78071204800021.docx a été converti\n",
      "le dossier est: ../data/text/docx\\T01422005768-42861171900017.docx a été converti\n",
      "le dossier est: ../data/text/docx\\T01422006421-30186434400033.docx a été converti\n",
      "le dossier est: ../data/text/docx\\T01423006776-44397473800025.docx a été converti\n",
      "le dossier est: ../data/text/docx\\T01423060045-49456241600011.docx a été converti\n",
      "le dossier est: ../data/text/docx\\T01622002433-32675050200022.docx a été converti\n",
      "le dossier est: ../data/text/docx\\T01622002715-33856725800011.docx a été converti\n"
     ]
    },
    {
     "name": "stderr",
     "output_type": "stream",
     "text": [
      "\n",
      "\u001b[A"
     ]
    },
    {
     "name": "stdout",
     "output_type": "stream",
     "text": [
      "le dossier est: ../data/text/docx\\T01623003034-33934391500163.docx a été converti\n",
      "le dossier est: ../data/text/docx\\T01623003219-53125191600015.docx a été converti\n"
     ]
    },
    {
     "name": "stderr",
     "output_type": "stream",
     "text": [
      "\n",
      "\u001b[A\n",
      "\u001b[A"
     ]
    },
    {
     "name": "stdout",
     "output_type": "stream",
     "text": [
      "le dossier est: ../data/text/docx\\T01822001640-89935051600022.docx a été converti\n",
      "le dossier est: ../data/text/docx\\T01923001802-51405046700018.docx a été converti\n",
      "le dossier est: ../data/text/docx\\T02322000474-13002616400017.docx a été converti\n",
      "le dossier est: ../data/text/docx\\T02522003612-30345857400058.docx a été converti\n",
      "le dossier est: ../data/text/docx\\T02522003638-48143644200026.docx a été converti\n"
     ]
    },
    {
     "name": "stderr",
     "output_type": "stream",
     "text": [
      "\n",
      "\u001b[A"
     ]
    },
    {
     "name": "stdout",
     "output_type": "stream",
     "text": [
      "le dossier est: ../data/text/docx\\T02522003662-65282054900036.docx a été converti\n",
      "le dossier est: ../data/text/docx\\T02622003885-50190583000011.docx a été converti\n",
      "le dossier est: ../data/text/docx\\T02622004304-38914267000030.docx a été converti\n",
      "le dossier est: ../data/text/docx\\T02623004979-30255862200015.docx a été converti\n",
      "le dossier est: ../data/text/docx\\T02722003009-45068094700022.docx a été converti\n"
     ]
    },
    {
     "name": "stderr",
     "output_type": "stream",
     "text": [
      "\n",
      "\u001b[A\n",
      "\u001b[A"
     ]
    },
    {
     "name": "stdout",
     "output_type": "stream",
     "text": [
      "le dossier est: ../data/text/docx\\T02722003023-34437906000512.docx a été converti\n",
      "le dossier est: ../data/text/docx\\T02722003443-47980117700037.docx a été converti\n",
      "le dossier est: ../data/text/docx\\T02822002503-48176331600041.docx a été converti\n",
      "le dossier est: ../data/text/docx\\T02822002527-80766731600028.docx a été converti\n",
      "le dossier est: ../data/text/docx\\T02823003087-80542020500249.docx a été converti\n",
      "le dossier est: ../data/text/docx\\T02823003147-80622043000037.docx a été converti\n",
      "le dossier est: ../data/text/docx\\T02922006269-51876867600018.docx a été converti\n"
     ]
    },
    {
     "name": "stderr",
     "output_type": "stream",
     "text": [
      "\n",
      "\u001b[A\n",
      "\u001b[A"
     ]
    },
    {
     "name": "stdout",
     "output_type": "stream",
     "text": [
      "le dossier est: ../data/text/docx\\T02923007774-75580217000034.docx a été converti\n",
      "le dossier est: ../data/text/docx\\T02923008425-52926863300078.docx a été converti\n",
      "le dossier est: ../data/text/docx\\T02923060035-39125082600016.docx a été converti\n",
      "le dossier est: ../data/text/docx\\T03022003983-55020066100019.docx a été converti\n",
      "le dossier est: ../data/text/docx\\T03022004040-39148486200019.docx a été converti\n"
     ]
    },
    {
     "name": "stderr",
     "output_type": "stream",
     "text": [
      "\n",
      "\u001b[A"
     ]
    },
    {
     "name": "stdout",
     "output_type": "stream",
     "text": [
      "le dossier est: ../data/text/docx\\T03022004316-77557973300012.docx a été converti\n",
      "le dossier est: ../data/text/docx\\T03022004335-59203463100172.docx a été converti\n",
      "le dossier est: ../data/text/docx\\T03023004718-30954309800045.docx a été converti\n",
      "le dossier est: ../data/text/docx\\T03023004806-32894985400017.docx a été converti\n",
      "le dossier est: ../data/text/docx\\T03023005075-39423990900085.docx a été converti\n"
     ]
    },
    {
     "name": "stderr",
     "output_type": "stream",
     "text": [
      "\n",
      "\u001b[A\n",
      "\u001b[A"
     ]
    },
    {
     "name": "stdout",
     "output_type": "stream",
     "text": [
      "le dossier est: ../data/text/docx\\T03123014646-39268986500021.docx a été converti\n",
      "le dossier est: ../data/text/docx\\T03322009338-33448733700035.docx a été converti\n",
      "le dossier est: ../data/text/docx\\T03322010095-53435964100014.docx a été converti\n",
      "le dossier est: ../data/text/docx\\T03322011155-42418554400063.docx a été converti\n"
     ]
    },
    {
     "name": "stderr",
     "output_type": "stream",
     "text": [
      "\n",
      "\u001b[A"
     ]
    },
    {
     "name": "stdout",
     "output_type": "stream",
     "text": [
      "le dossier est: ../data/text/docx\\T03322011296-48008096900037.docx a été converti\n",
      "le dossier est: ../data/text/docx\\T03322012345-33815667200044.docx a été converti\n",
      "le dossier est: ../data/text/docx\\T03323012732-32852574600017.docx a été converti\n"
     ]
    },
    {
     "name": "stderr",
     "output_type": "stream",
     "text": [
      "\n",
      "\u001b[A"
     ]
    },
    {
     "name": "stdout",
     "output_type": "stream",
     "text": [
      "le dossier est: ../data/text/docx\\T03323013089-81189008600010.docx a été converti\n",
      "le dossier est: ../data/text/docx\\T03323014342-39010050100100.docx a été converti\n",
      "le dossier est: ../data/text/docx\\T03422006328-61292008200023.docx a été converti\n"
     ]
    },
    {
     "name": "stderr",
     "output_type": "stream",
     "text": [
      "\n",
      "\u001b[A\n",
      "\u001b[A"
     ]
    },
    {
     "name": "stdout",
     "output_type": "stream",
     "text": [
      "le dossier est: ../data/text/docx\\T03422007136-32920877101171.docx a été converti\n",
      "le dossier est: ../data/text/docx\\T03522009878-32214823000251.docx a été converti\n",
      "le dossier est: ../data/text/docx\\T03522010134-82391683800340.docx a été converti\n",
      "le dossier est: ../data/text/docx\\T03522010299-63920026000029.docx a été converti\n"
     ]
    },
    {
     "name": "stderr",
     "output_type": "stream",
     "text": [
      "\n",
      "\u001b[A\n",
      "\u001b[A"
     ]
    },
    {
     "name": "stdout",
     "output_type": "stream",
     "text": [
      "le dossier est: ../data/text/docx\\T03522011097-30824995200083.docx a été converti\n",
      "le dossier est: ../data/text/docx\\T03522011777-80923388500015.docx a été converti\n",
      "le dossier est: ../data/text/docx\\T03522011826-61920085000060.docx a été converti\n",
      "le dossier est: ../data/text/docx\\T03522011926-32399535700023.docx a été converti\n",
      "le dossier est: ../data/text/docx\\T03522012315-85077204700021.docx a été converti\n"
     ]
    },
    {
     "name": "stderr",
     "output_type": "stream",
     "text": [
      "\n",
      "\u001b[A\n",
      "\u001b[A"
     ]
    },
    {
     "name": "stdout",
     "output_type": "stream",
     "text": [
      "le dossier est: ../data/text/docx\\T03522012356-31506450100010.docx a été converti\n",
      "le dossier est: ../data/text/docx\\T03523012675-38384469300887.docx a été converti\n",
      "le dossier est: ../data/text/docx\\T03523012904-30393941700109.docx a été converti\n",
      "le dossier est: ../data/text/docx\\T03623001372-38023790900037.docx a été converti\n"
     ]
    },
    {
     "name": "stderr",
     "output_type": "stream",
     "text": [
      "\n",
      "\u001b[A\n",
      "\u001b[A"
     ]
    },
    {
     "name": "stdout",
     "output_type": "stream",
     "text": [
      "le dossier est: ../data/text/docx\\T03623001375-51176383100019.docx a été converti\n",
      "le dossier est: ../data/text/docx\\T03822009521-31121103100142.docx a été converti\n",
      "le dossier est: ../data/text/docx\\T03822009572-61368007300012.docx a été converti\n"
     ]
    },
    {
     "name": "stderr",
     "output_type": "stream",
     "text": [
      "\n",
      "\u001b[A\n",
      "\u001b[A"
     ]
    },
    {
     "name": "stdout",
     "output_type": "stream",
     "text": [
      "le dossier est: ../data/text/docx\\T03822010009-42004645000029.docx a été converti\n",
      "le dossier est: ../data/text/docx\\T03822010453-79411044500010.docx a été converti\n",
      "le dossier est: ../data/text/docx\\T03822010642-47945381300012.docx a été converti\n",
      "le dossier est: ../data/text/docx\\T03822012097-88202829300018.docx a été converti\n"
     ]
    },
    {
     "name": "stderr",
     "output_type": "stream",
     "text": [
      "\n",
      "\u001b[A\n",
      "\u001b[A"
     ]
    },
    {
     "name": "stdout",
     "output_type": "stream",
     "text": [
      "le dossier est: ../data/text/docx\\T03823012277-50387702900010.docx a été converti\n",
      "le dossier est: ../data/text/docx\\T03823012459-44464372000022.docx a été converti\n",
      "le dossier est: ../data/text/docx\\T03823012802-32553897300042.docx a été converti\n",
      "le dossier est: ../data/text/docx\\T03823013051-50071728500018.docx a été converti\n",
      "le dossier est: ../data/text/docx\\T03823013124-79934418900078.docx a été converti\n"
     ]
    },
    {
     "name": "stderr",
     "output_type": "stream",
     "text": [
      "\n",
      "\u001b[A"
     ]
    },
    {
     "name": "stdout",
     "output_type": "stream",
     "text": [
      "le dossier est: ../data/text/docx\\T03823013958-06050229100028.docx a été converti\n",
      "le dossier est: ../data/text/docx\\T03922001744-64545010700042.docx a été converti\n",
      "le dossier est: ../data/text/docx\\T03922002048-78913978900018.docx a été converti\n"
     ]
    },
    {
     "name": "stderr",
     "output_type": "stream",
     "text": [
      "\n",
      "\u001b[A\n",
      "\u001b[A"
     ]
    },
    {
     "name": "stdout",
     "output_type": "stream",
     "text": [
      "le dossier est: ../data/text/docx\\T03923002396-27390002700049.docx a été converti\n",
      "le dossier est: ../data/text/docx\\T04122002054-85275517200016.docx a été converti\n",
      "le dossier est: ../data/text/docx\\T04123002512-41155307600034.docx a été converti\n"
     ]
    },
    {
     "name": "stderr",
     "output_type": "stream",
     "text": [
      "\n",
      "\u001b[A"
     ]
    },
    {
     "name": "stdout",
     "output_type": "stream",
     "text": [
      "le dossier est: ../data/text/docx\\T04322001595-58595029800018.docx a été converti\n",
      "le dossier est: ../data/text/docx\\T04422013012-81452084700017.docx a été converti\n",
      "le dossier est: ../data/text/docx\\T04422013389-34314265900089.docx a été converti\n",
      "le dossier est: ../data/text/docx\\T04422013514-38947005500028.docx a été converti\n"
     ]
    },
    {
     "name": "stderr",
     "output_type": "stream",
     "text": [
      "\n",
      "\u001b[A\n",
      "\u001b[A"
     ]
    },
    {
     "name": "stdout",
     "output_type": "stream",
     "text": [
      "le dossier est: ../data/text/docx\\T04422014340-49452191700646.docx a été converti\n",
      "le dossier est: ../data/text/docx\\T04422015122-30981349100029.docx a été converti\n",
      "le dossier est: ../data/text/docx\\T04422015745-34082112300023.docx a été converti\n",
      "le dossier est: ../data/text/docx\\T04422015794-48794076900333.docx a été converti\n",
      "le dossier est: ../data/text/docx\\T04423016598-32100689200285.docx a été converti\n"
     ]
    },
    {
     "name": "stderr",
     "output_type": "stream",
     "text": [
      "\n",
      "\u001b[A\n",
      "\u001b[A"
     ]
    },
    {
     "name": "stdout",
     "output_type": "stream",
     "text": [
      "le dossier est: ../data/text/docx\\T04423016681-38169963600019.docx a été converti\n",
      "le dossier est: ../data/text/docx\\T04423017299-32248013800013.docx a été converti\n",
      "le dossier est: ../data/text/docx\\T04423017365-41239723400276.docx a été converti\n",
      "le dossier est: ../data/text/docx\\T04423017482-38947005500028.docx a été converti\n",
      "le dossier est: ../data/text/docx\\T04423017748-43789315900040.docx a été converti\n",
      "le dossier est: ../data/text/docx\\T04423018328-53203639900014.docx a été converti\n"
     ]
    },
    {
     "name": "stderr",
     "output_type": "stream",
     "text": [
      "\n",
      "\u001b[A"
     ]
    },
    {
     "name": "stdout",
     "output_type": "stream",
     "text": [
      "le dossier est: ../data/text/docx\\T04522004274-50135204100013.docx a été converti\n",
      "le dossier est: ../data/text/docx\\T04522004283-50140245700060.docx a été converti\n",
      "le dossier est: ../data/text/docx\\T04522004530-77733807000074.docx a été converti\n",
      "le dossier est: ../data/text/docx\\T04522005265-42138086600051.docx a été converti\n",
      "le dossier est: ../data/text/docx\\T04523005514-73672024400028.docx a été converti\n"
     ]
    },
    {
     "name": "stderr",
     "output_type": "stream",
     "text": [
      "\n",
      "\u001b[A\n",
      "\u001b[A"
     ]
    },
    {
     "name": "stdout",
     "output_type": "stream",
     "text": [
      "le dossier est: ../data/text/docx\\T04523005518-35351345000067.docx a été converti\n",
      "le dossier est: ../data/text/docx\\T04523005552-88512290300028.docx a été converti\n",
      "le dossier est: ../data/text/docx\\T04523005684-61201326800026.docx a été converti\n",
      "le dossier est: ../data/text/docx\\T04523005707-43390774800019.docx a été converti\n"
     ]
    },
    {
     "name": "stderr",
     "output_type": "stream",
     "text": [
      "\n",
      "\u001b[A"
     ]
    },
    {
     "name": "stdout",
     "output_type": "stream",
     "text": [
      "le dossier est: ../data/text/docx\\T04523005774-85250529600016.docx a été converti\n",
      "le dossier est: ../data/text/docx\\T04523006247-77551078700010.docx a été converti\n",
      "le dossier est: ../data/text/docx\\T04622000861-52786619800015.docx a été converti\n",
      "le dossier est: ../data/text/docx\\T04722002119-81416628600017.docx a été converti\n",
      "le dossier est: ../data/text/docx\\T04722002569-01638008100063.docx a été converti\n"
     ]
    },
    {
     "name": "stderr",
     "output_type": "stream",
     "text": [
      "\n",
      "\u001b[A\n",
      "\n"
     ]
    },
    {
     "name": "stdout",
     "output_type": "stream",
     "text": [
      "le dossier est: ../data/text/docx\\T04723060001-51897650100024.docx a été converti\n",
      "le dossier est: ../data/text/docx\\T04922007524-31700083400018.docx a été converti\n"
     ]
    },
    {
     "name": "stderr",
     "output_type": "stream",
     "text": [
      "Extracting text from docx files:  31%|███       | 153/496 [00:08<00:24, 13.81files/s]\u001b[A\u001b[A\n",
      "\n"
     ]
    },
    {
     "name": "stdout",
     "output_type": "stream",
     "text": [
      "le dossier est: ../data/text/docx\\T04922007548-31081745700016.docx a été converti\n",
      "le dossier est: ../data/text/docx\\T04922007562-33151784700025.docx a été converti\n"
     ]
    },
    {
     "name": "stderr",
     "output_type": "stream",
     "text": [
      "Extracting text from docx files:  31%|███▏      | 155/496 [00:09<00:27, 12.51files/s]\u001b[A\u001b[A"
     ]
    },
    {
     "name": "stdout",
     "output_type": "stream",
     "text": [
      "le dossier est: ../data/text/docx\\T04922007717-32242434200275.docx a été converti\n",
      "le dossier est: ../data/text/docx\\T04922008586-77560971200010.docx a été converti\n"
     ]
    },
    {
     "name": "stderr",
     "output_type": "stream",
     "text": [
      "\n",
      "\u001b[A\n",
      "\u001b[A"
     ]
    },
    {
     "name": "stdout",
     "output_type": "stream",
     "text": [
      "le dossier est: ../data/text/docx\\T04922008589-81125330100022.docx a été converti\n",
      "le dossier est: ../data/text/docx\\T04922008616-66698015600010.docx a été converti\n",
      "le dossier est: ../data/text/docx\\T04922008814-30213540500124.docx a été converti\n",
      "le dossier est: ../data/text/docx\\T04922009000-07120159400042.docx a été converti\n"
     ]
    },
    {
     "name": "stderr",
     "output_type": "stream",
     "text": [
      "\n",
      "\u001b[A"
     ]
    },
    {
     "name": "stdout",
     "output_type": "stream",
     "text": [
      "le dossier est: ../data/text/docx\\T04923009654-45198060100020.docx a été converti\n",
      "le dossier est: ../data/text/docx\\T04923010084-83841262500017.docx a été converti\n",
      "le dossier est: ../data/text/docx\\T05022003127-53793398800074.docx a été converti\n"
     ]
    },
    {
     "name": "stderr",
     "output_type": "stream",
     "text": [
      "\n",
      "\u001b[A"
     ]
    },
    {
     "name": "stdout",
     "output_type": "stream",
     "text": [
      "le dossier est: ../data/text/docx\\T05022003336-83540582000118.docx a été converti\n",
      "le dossier est: ../data/text/docx\\T05022003356-56211096500034.docx a été converti\n"
     ]
    },
    {
     "name": "stderr",
     "output_type": "stream",
     "text": [
      "\n",
      "\u001b[A\n",
      "\n"
     ]
    },
    {
     "name": "stdout",
     "output_type": "stream",
     "text": [
      "le dossier est: ../data/text/docx\\T05122004931-44498206000022.docx a été converti\n",
      "le dossier est: ../data/text/docx\\T05122005148-40209626700560.docx a été converti\n",
      "le dossier est: ../data/text/docx\\T05123005779-38196049100011.docx a été converti\n",
      "le dossier est: ../data/text/docx\\T05222001372-52357639500017.docx a été converti\n"
     ]
    },
    {
     "name": "stderr",
     "output_type": "stream",
     "text": [
      "Extracting text from docx files:  34%|███▍      | 170/496 [00:10<00:29, 11.13files/s]\u001b[A\u001b[A"
     ]
    },
    {
     "name": "stdout",
     "output_type": "stream",
     "text": [
      "le dossier est: ../data/text/docx\\T05222001448-80076178500016.docx a été converti\n",
      "le dossier est: ../data/text/docx\\T05223001628-95060721800019.docx a été converti\n"
     ]
    },
    {
     "name": "stderr",
     "output_type": "stream",
     "text": [
      "\n",
      "\u001b[A\n",
      "\u001b[A"
     ]
    },
    {
     "name": "stdout",
     "output_type": "stream",
     "text": [
      "le dossier est: ../data/text/docx\\T05322003065-30661725900024.docx a été converti\n",
      "le dossier est: ../data/text/docx\\T05322003493-27530001000012.docx a été converti\n",
      "le dossier est: ../data/text/docx\\T05323003801-78625460700025.docx a été converti\n",
      "le dossier est: ../data/text/docx\\T05422004525-33418069200082.docx a été converti\n",
      "le dossier est: ../data/text/docx\\T05622005177-77782817900013.docx a été converti\n",
      "le dossier est: ../data/text/docx\\T05722005609-36280101100325.docx a été converti\n"
     ]
    },
    {
     "name": "stderr",
     "output_type": "stream",
     "text": [
      "\n",
      "\u001b[A\n",
      "\u001b[A"
     ]
    },
    {
     "name": "stdout",
     "output_type": "stream",
     "text": [
      "le dossier est: ../data/text/docx\\T05722005828-30652217800038.docx a été converti\n",
      "le dossier est: ../data/text/docx\\T05722005831-52187236600013.docx a été converti\n",
      "le dossier est: ../data/text/docx\\T05722005863-40339674000017.docx a été converti\n"
     ]
    },
    {
     "name": "stderr",
     "output_type": "stream",
     "text": [
      "\n",
      "\u001b[A"
     ]
    },
    {
     "name": "stdout",
     "output_type": "stream",
     "text": [
      "le dossier est: ../data/text/docx\\T05722006136-48055789100045.docx a été converti\n",
      "le dossier est: ../data/text/docx\\T05722006340-30247621300038.docx a été converti\n",
      "le dossier est: ../data/text/docx\\T05723007089-41043591100061.docx a été converti\n"
     ]
    },
    {
     "name": "stderr",
     "output_type": "stream",
     "text": [
      "\n",
      "\u001b[A\n",
      "\u001b[A"
     ]
    },
    {
     "name": "stdout",
     "output_type": "stream",
     "text": [
      "le dossier est: ../data/text/docx\\T05723007250-85031930200012.docx a été converti\n",
      "le dossier est: ../data/text/docx\\T05723007322-52187236600013.docx a été converti\n",
      "le dossier est: ../data/text/docx\\T05723007485-32246444700117.docx a été converti\n",
      "le dossier est: ../data/text/docx\\T05723007987-41893017800029.docx a été converti\n",
      "le dossier est: ../data/text/docx\\T06022004144-52642029400013.docx a été converti\n",
      "le dossier est: ../data/text/docx\\T06022004205-43309056000023.docx a été converti\n",
      "le dossier est: ../data/text/docx\\T06022004237-51410887700028.docx a été converti\n"
     ]
    },
    {
     "name": "stderr",
     "output_type": "stream",
     "text": [
      "\n",
      "\u001b[A"
     ]
    },
    {
     "name": "stdout",
     "output_type": "stream",
     "text": [
      "le dossier est: ../data/text/docx\\T06022004250-40318080500018.docx a été converti\n",
      "le dossier est: ../data/text/docx\\T06022004269-78050391800044.docx a été converti\n",
      "le dossier est: ../data/text/docx\\T06023005356-48770965100045.docx a été converti\n"
     ]
    },
    {
     "name": "stderr",
     "output_type": "stream",
     "text": [
      "\n",
      "\u001b[A"
     ]
    },
    {
     "name": "stdout",
     "output_type": "stream",
     "text": [
      "le dossier est: ../data/text/docx\\T06122002003-53306388900026.docx a été converti\n",
      "le dossier est: ../data/text/docx\\T06122002058-59388005700033.docx a été converti\n",
      "le dossier est: ../data/text/docx\\T06123002460-50959961900038.docx a été converti\n",
      "le dossier est: ../data/text/docx\\T06123002464-49517615800014.docx a été converti\n"
     ]
    },
    {
     "name": "stderr",
     "output_type": "stream",
     "text": [
      "\n",
      "\u001b[A"
     ]
    },
    {
     "name": "stdout",
     "output_type": "stream",
     "text": [
      "le dossier est: ../data/text/docx\\T06222006982-41481479800024.docx a été converti\n",
      "le dossier est: ../data/text/docx\\T06222007032-34885821800137.docx a été converti\n"
     ]
    },
    {
     "name": "stderr",
     "output_type": "stream",
     "text": [
      "\n",
      "\u001b[A\n",
      "\n",
      "Extracting text from docx files:  41%|████      | 203/496 [00:12<00:22, 13.04files/s]"
     ]
    },
    {
     "name": "stdout",
     "output_type": "stream",
     "text": [
      "le dossier est: ../data/text/docx\\T06222007394-52893262700029.docx a été converti\n",
      "le dossier est: ../data/text/docx\\T06222008237-30252761900035.docx a été converti\n",
      "le dossier est: ../data/text/docx\\T06222008509-41986768400138.docx a été converti\n"
     ]
    },
    {
     "name": "stderr",
     "output_type": "stream",
     "text": [
      "\u001b[A\u001b[A"
     ]
    },
    {
     "name": "stdout",
     "output_type": "stream",
     "text": [
      "le dossier est: ../data/text/docx\\T06223009075-50174275300046.docx a été converti\n",
      "le dossier est: ../data/text/docx\\T06223009160-57648009900018.docx a été converti\n"
     ]
    },
    {
     "name": "stderr",
     "output_type": "stream",
     "text": [
      "\n",
      "\u001b[A\n",
      "\u001b[A"
     ]
    },
    {
     "name": "stdout",
     "output_type": "stream",
     "text": [
      "le dossier est: ../data/text/docx\\T06223009333-30266479200116.docx a été converti\n",
      "le dossier est: ../data/text/docx\\T06223060010-61622008300037.docx a été converti\n",
      "le dossier est: ../data/text/docx\\T06322004336-81940993900025.docx a été converti\n",
      "le dossier est: ../data/text/docx\\T06322004348-44457393500012.docx a été converti\n"
     ]
    },
    {
     "name": "stderr",
     "output_type": "stream",
     "text": [
      "\n",
      "\u001b[A\n",
      "\u001b[A"
     ]
    },
    {
     "name": "stdout",
     "output_type": "stream",
     "text": [
      "le dossier est: ../data/text/docx\\T06322004349-85520146300335.docx a été converti\n",
      "le dossier est: ../data/text/docx\\T06322004476-38204646400030.docx a été converti\n",
      "le dossier est: ../data/text/docx\\T06322004990-81940993900025.docx a été converti\n",
      "le dossier est: ../data/text/docx\\T06322005337-31131532900848.docx a été converti\n"
     ]
    },
    {
     "name": "stderr",
     "output_type": "stream",
     "text": [
      "\n",
      "\u001b[A"
     ]
    },
    {
     "name": "stdout",
     "output_type": "stream",
     "text": [
      "le dossier est: ../data/text/docx\\T06323005904-44078968300024.docx a été converti\n",
      "le dossier est: ../data/text/docx\\T06422005335-09628055700057.docx a été converti\n",
      "le dossier est: ../data/text/docx\\T06423006850-75850100100187.docx a été converti\n"
     ]
    },
    {
     "name": "stderr",
     "output_type": "stream",
     "text": [
      "\n",
      "\u001b[A\n",
      "\u001b[A"
     ]
    },
    {
     "name": "stdout",
     "output_type": "stream",
     "text": [
      "le dossier est: ../data/text/docx\\T06522001206-39362393900021.docx a été converti\n",
      "le dossier est: ../data/text/docx\\T06523001503-38101646800013.docx a été converti\n",
      "le dossier est: ../data/text/docx\\T06622002708-50162674100026.docx a été converti\n",
      "le dossier est: ../data/text/docx\\T06623003019-39859026500037.docx a été converti\n",
      "le dossier est: ../data/text/docx\\T06623003163-66420099500010.docx a été converti\n"
     ]
    },
    {
     "name": "stderr",
     "output_type": "stream",
     "text": [
      "\n",
      "\u001b[A"
     ]
    },
    {
     "name": "stdout",
     "output_type": "stream",
     "text": [
      "le dossier est: ../data/text/docx\\T06623003176-30030029000172.docx a été converti\n",
      "le dossier est: ../data/text/docx\\T06722009506-79931621100033.docx a été converti\n",
      "le dossier est: ../data/text/docx\\T06722009636-50934962700026.docx a été converti\n",
      "le dossier est: ../data/text/docx\\T06722009741-56850031800023.docx a été converti\n",
      "le dossier est: ../data/text/docx\\T06722010076-82478653700046.docx a été converti\n"
     ]
    },
    {
     "name": "stderr",
     "output_type": "stream",
     "text": [
      "\n",
      "\u001b[A\n",
      "\u001b[A"
     ]
    },
    {
     "name": "stdout",
     "output_type": "stream",
     "text": [
      "le dossier est: ../data/text/docx\\T06723011781-80139398400035.docx a été converti\n",
      "le dossier est: ../data/text/docx\\T06723011859-63850041300064.docx a été converti\n",
      "le dossier est: ../data/text/docx\\T06723011894-38875870800043.docx a été converti\n",
      "le dossier est: ../data/text/docx\\T06723011992-33878051300028.docx a été converti\n",
      "le dossier est: ../data/text/docx\\T06723012278-50934962700026.docx a été converti\n",
      "le dossier est: ../data/text/docx\\T06723012398-54850146900041.docx a été converti\n"
     ]
    },
    {
     "name": "stderr",
     "output_type": "stream",
     "text": [
      "\n",
      "\u001b[A\n",
      "\u001b[A"
     ]
    },
    {
     "name": "stdout",
     "output_type": "stream",
     "text": [
      "le dossier est: ../data/text/docx\\T06723012453-56850068000018.docx a été converti\n",
      "le dossier est: ../data/text/docx\\T06822006042-38445469000627.docx a été converti\n",
      "le dossier est: ../data/text/docx\\T06822007144-94575300200019.docx a été converti\n",
      "le dossier est: ../data/text/docx\\T06823008020-91732091300036.docx a été converti\n",
      "le dossier est: ../data/text/docx\\T06922023661-95651249500352.docx a été converti\n",
      "le dossier est: ../data/text/docx\\T06923024672-85041617300019.docx a été converti\n"
     ]
    },
    {
     "name": "stderr",
     "output_type": "stream",
     "text": [
      "\n",
      "\u001b[A"
     ]
    },
    {
     "name": "stdout",
     "output_type": "stream",
     "text": [
      "le dossier est: ../data/text/docx\\T06923024700-41239979200214.docx a été converti\n",
      "le dossier est: ../data/text/docx\\T06923025341-38353855000062.docx a été converti\n",
      "le dossier est: ../data/text/docx\\T06923025536-33380276700025.docx a été converti\n",
      "le dossier est: ../data/text/docx\\T07122003030-32181911200483.docx a été converti\n",
      "le dossier est: ../data/text/docx\\T07122003272-79592017200017.docx a été converti\n"
     ]
    },
    {
     "name": "stderr",
     "output_type": "stream",
     "text": [
      "\n",
      "\u001b[A\n",
      "\u001b[A"
     ]
    },
    {
     "name": "stdout",
     "output_type": "stream",
     "text": [
      "le dossier est: ../data/text/docx\\T07123003910-34243878500038.docx a été converti\n",
      "le dossier est: ../data/text/docx\\T07222004262-33051818400040.docx a été converti\n",
      "le dossier est: ../data/text/docx\\T07222004502-33478396600040.docx a été converti\n",
      "le dossier est: ../data/text/docx\\T07223005199-91750143900025.docx a été converti\n",
      "le dossier est: ../data/text/docx\\T07223005231-75319248300018.docx a été converti\n",
      "le dossier est: ../data/text/docx\\T07322003877-74552107000011.docx a été converti\n"
     ]
    },
    {
     "name": "stderr",
     "output_type": "stream",
     "text": [
      "\n",
      "\u001b[A\n",
      "\u001b[A"
     ]
    },
    {
     "name": "stdout",
     "output_type": "stream",
     "text": [
      "le dossier est: ../data/text/docx\\T07322004014-39882711300018.docx a été converti\n",
      "le dossier est: ../data/text/docx\\T07322004140-52333692300017.docx a été converti\n",
      "le dossier est: ../data/text/docx\\T07323005172-35352535500080.docx a été converti\n",
      "le dossier est: ../data/text/docx\\T07422005002-58205651100105.docx a été converti\n",
      "le dossier est: ../data/text/docx\\T07423006792-32682039600025.docx a été converti\n",
      "le dossier est: ../data/text/docx\\T07423007042-31659025600012.docx a été converti\n",
      "le dossier est: ../data/text/docx\\T07522039511-40325913801315.docx a été converti\n"
     ]
    },
    {
     "name": "stderr",
     "output_type": "stream",
     "text": [
      "\n",
      "\u001b[A\n",
      "\u001b[A"
     ]
    },
    {
     "name": "stdout",
     "output_type": "stream",
     "text": [
      "le dossier est: ../data/text/docx\\T07522039564-37895511600058.docx a été converti\n",
      "le dossier est: ../data/text/docx\\T07522039803-40410240200074.docx a été converti\n",
      "le dossier est: ../data/text/docx\\T07522039867-34182756600066.docx a été converti\n",
      "le dossier est: ../data/text/docx\\T07522040086-40802411500037.docx a été converti\n",
      "le dossier est: ../data/text/docx\\T07522040307-47947430600020.docx a été converti\n",
      "le dossier est: ../data/text/docx\\T07522040478-31500094300862.docx a été converti\n",
      "le dossier est: ../data/text/docx\\T07522040768-77603861400041.docx a été converti\n"
     ]
    },
    {
     "name": "stderr",
     "output_type": "stream",
     "text": [
      "\n",
      "\u001b[A"
     ]
    },
    {
     "name": "stdout",
     "output_type": "stream",
     "text": [
      "le dossier est: ../data/text/docx\\T07522040867-78471400800165.docx a été converti\n",
      "le dossier est: ../data/text/docx\\T07522041549-31926669800012.docx a été converti\n",
      "le dossier est: ../data/text/docx\\T07522042117-54201695102854.docx a été converti\n",
      "le dossier est: ../data/text/docx\\T07522042455-43356581900037.docx a été converti\n"
     ]
    },
    {
     "name": "stderr",
     "output_type": "stream",
     "text": [
      "\n",
      "\u001b[A"
     ]
    },
    {
     "name": "stdout",
     "output_type": "stream",
     "text": [
      "le dossier est: ../data/text/docx\\T07522043212-52916800700167.docx a été converti\n",
      "le dossier est: ../data/text/docx\\T07522044423-39254344300015.docx a été converti\n",
      "le dossier est: ../data/text/docx\\T07522046240-78977257100020.docx a été converti\n"
     ]
    },
    {
     "name": "stderr",
     "output_type": "stream",
     "text": [
      "\n",
      "\u001b[A\n",
      "\u001b[A"
     ]
    },
    {
     "name": "stdout",
     "output_type": "stream",
     "text": [
      "le dossier est: ../data/text/docx\\T07522048516-30249327500044.docx a été converti\n",
      "le dossier est: ../data/text/docx\\T07522049169-77567125802757.docx a été converti\n",
      "le dossier est: ../data/text/docx\\T07522049206-78435733700020.docx a été converti\n"
     ]
    },
    {
     "name": "stderr",
     "output_type": "stream",
     "text": [
      "\n",
      "\u001b[A"
     ]
    },
    {
     "name": "stdout",
     "output_type": "stream",
     "text": [
      "le dossier est: ../data/text/docx\\T07522049591-47916313100044.docx a été converti\n",
      "le dossier est: ../data/text/docx\\T07523050411-77565746300243.docx a été converti\n",
      "le dossier est: ../data/text/docx\\T07523051108-78431311600104.docx a été converti\n",
      "le dossier est: ../data/text/docx\\T07523051466-77567111800047.docx a été converti\n"
     ]
    },
    {
     "name": "stderr",
     "output_type": "stream",
     "text": [
      "\n",
      "\u001b[A\n",
      "\u001b[A"
     ]
    },
    {
     "name": "stdout",
     "output_type": "stream",
     "text": [
      "le dossier est: ../data/text/docx\\T07523051938-79198797700026.docx a été converti\n",
      "le dossier est: ../data/text/docx\\T07523051992-56208290901190.docx a été converti\n",
      "le dossier est: ../data/text/docx\\T07523052527-77568849200286.docx a été converti\n",
      "le dossier est: ../data/text/docx\\T07523052608-42472213000079.docx a été converti\n"
     ]
    },
    {
     "name": "stderr",
     "output_type": "stream",
     "text": [
      "\n",
      "\u001b[A\n",
      "\u001b[A"
     ]
    },
    {
     "name": "stdout",
     "output_type": "stream",
     "text": [
      "le dossier est: ../data/text/docx\\T07523053502-42857913000223.docx a été converti\n",
      "le dossier est: ../data/text/docx\\T07523053832-78440928600068.docx a été converti\n",
      "le dossier est: ../data/text/docx\\T07523054967-33919668500012.docx a été converti\n"
     ]
    },
    {
     "name": "stderr",
     "output_type": "stream",
     "text": [
      "\n",
      "\u001b[A"
     ]
    },
    {
     "name": "stdout",
     "output_type": "stream",
     "text": [
      "le dossier est: ../data/text/docx\\T07622007138-34431497600517.docx a été converti\n",
      "le dossier est: ../data/text/docx\\T07622007306-80838077800015.docx a été converti\n",
      "le dossier est: ../data/text/docx\\T07622007537-36450026400023.docx a été converti\n",
      "le dossier est: ../data/text/docx\\T07622008145-38150573400065.docx a été converti\n"
     ]
    },
    {
     "name": "stderr",
     "output_type": "stream",
     "text": [
      "\n",
      "\u001b[A\n",
      "\u001b[A"
     ]
    },
    {
     "name": "stdout",
     "output_type": "stream",
     "text": [
      "le dossier est: ../data/text/docx\\T07622008766-78645023900078.docx a été converti\n",
      "le dossier est: ../data/text/docx\\T07622009169-49326528400015.docx a été converti\n",
      "le dossier est: ../data/text/docx\\T07623009294-79947713800017.docx a été converti\n",
      "le dossier est: ../data/text/docx\\T07623009664-62050118900034.docx a été converti\n",
      "le dossier est: ../data/text/docx\\T07722006501-37818678700024.docx a été converti\n",
      "le dossier est: ../data/text/docx\\T07722006516-85126645200016.docx a été converti\n"
     ]
    },
    {
     "name": "stderr",
     "output_type": "stream",
     "text": [
      "\n",
      "\u001b[A"
     ]
    },
    {
     "name": "stdout",
     "output_type": "stream",
     "text": [
      "le dossier est: ../data/text/docx\\T07722006680-31626302900050.docx a été converti\n",
      "le dossier est: ../data/text/docx\\T07722006810-56209113200059.docx a été converti\n",
      "le dossier est: ../data/text/docx\\T07722006821-50519066000025.docx a été converti\n",
      "le dossier est: ../data/text/docx\\T07722007181-74725212000015.docx a été converti\n"
     ]
    },
    {
     "name": "stderr",
     "output_type": "stream",
     "text": [
      "\n",
      "\u001b[A\n",
      "\u001b[A"
     ]
    },
    {
     "name": "stdout",
     "output_type": "stream",
     "text": [
      "le dossier est: ../data/text/docx\\T07722007477-89217534000025.docx a été converti\n",
      "le dossier est: ../data/text/docx\\T07722007992-87999114900029.docx a été converti\n",
      "le dossier est: ../data/text/docx\\T07723008385-39980202400022.docx a été converti\n",
      "le dossier est: ../data/text/docx\\T07723008544-30340961900226.docx a été converti\n"
     ]
    },
    {
     "name": "stderr",
     "output_type": "stream",
     "text": [
      "\n",
      "\u001b[A\n",
      "\u001b[A"
     ]
    },
    {
     "name": "stdout",
     "output_type": "stream",
     "text": [
      "le dossier est: ../data/text/docx\\T07723008607-50519066000025.docx a été converti\n",
      "le dossier est: ../data/text/docx\\T07723008891-78494234400044.docx a été converti\n",
      "le dossier est: ../data/text/docx\\T07822012140-44027016300023.docx a été converti\n",
      "le dossier est: ../data/text/docx\\T07922002575-39781482300092.docx a été converti\n",
      "le dossier est: ../data/text/docx\\T07922002624-34301579800014.docx a été converti\n"
     ]
    },
    {
     "name": "stderr",
     "output_type": "stream",
     "text": [
      "\n",
      "\u001b[A\n",
      "\n"
     ]
    },
    {
     "name": "stdout",
     "output_type": "stream",
     "text": [
      "le dossier est: ../data/text/docx\\T07922002761-45034960000020.docx a été converti\n",
      "le dossier est: ../data/text/docx\\T07922003013-34513312800057.docx a été converti\n",
      "le dossier est: ../data/text/docx\\T07922003053-83381722400029.docx a été converti\n"
     ]
    },
    {
     "name": "stderr",
     "output_type": "stream",
     "text": [
      "Extracting text from docx files:  62%|██████▎   | 310/496 [00:19<00:10, 17.99files/s]\u001b[A\u001b[A\n",
      "\u001b[A"
     ]
    },
    {
     "name": "stdout",
     "output_type": "stream",
     "text": [
      "le dossier est: ../data/text/docx\\T07923003380-49467179500057.docx a été converti\n",
      "le dossier est: ../data/text/docx\\T08122001989-33395628200029.docx a été converti\n",
      "le dossier est: ../data/text/docx\\T08123002547-71572008200018.docx a été converti\n",
      "le dossier est: ../data/text/docx\\T08123002555-41237203900021.docx a été converti\n",
      "le dossier est: ../data/text/docx\\T08222001255-31432887300026.docx a été converti\n",
      "le dossier est: ../data/text/docx\\T08223001506-89127387200012.docx a été converti\n"
     ]
    },
    {
     "name": "stderr",
     "output_type": "stream",
     "text": [
      "\n",
      "\u001b[A"
     ]
    },
    {
     "name": "stdout",
     "output_type": "stream",
     "text": [
      "le dossier est: ../data/text/docx\\T08322004038-78315959300285.docx a été converti\n",
      "le dossier est: ../data/text/docx\\T08322004311-48310463400132.docx a été converti\n",
      "le dossier est: ../data/text/docx\\T08322004677-57375061903199.docx a été converti\n"
     ]
    },
    {
     "name": "stderr",
     "output_type": "stream",
     "text": [
      "\n",
      "\u001b[A"
     ]
    },
    {
     "name": "stdout",
     "output_type": "stream",
     "text": [
      "le dossier est: ../data/text/docx\\T08422004019-81928542000017.docx a été converti\n",
      "le dossier est: ../data/text/docx\\T08522006164-42266562000015.docx a été converti\n",
      "le dossier est: ../data/text/docx\\T08522006172-35252949900019.docx a été converti\n"
     ]
    },
    {
     "name": "stderr",
     "output_type": "stream",
     "text": [
      "\n",
      "\u001b[A\n",
      "\u001b[A"
     ]
    },
    {
     "name": "stdout",
     "output_type": "stream",
     "text": [
      "le dossier est: ../data/text/docx\\T08522006556-79018949200040.docx a été converti\n",
      "le dossier est: ../data/text/docx\\T08522007405-32249907000017.docx a été converti\n",
      "le dossier est: ../data/text/docx\\T08523007908-54585028100035.docx a été converti\n",
      "le dossier est: ../data/text/docx\\T08523007983-82155645300016.docx a été converti\n",
      "le dossier est: ../data/text/docx\\T08523007986-95005345400050.docx a été converti\n"
     ]
    },
    {
     "name": "stderr",
     "output_type": "stream",
     "text": [
      "\n",
      "\u001b[A\n",
      "\u001b[A"
     ]
    },
    {
     "name": "stdout",
     "output_type": "stream",
     "text": [
      "le dossier est: ../data/text/docx\\T08523008007-40326416100049.docx a été converti\n",
      "le dossier est: ../data/text/docx\\T08523008152-32042115900023.docx a été converti\n",
      "le dossier est: ../data/text/docx\\T08523008681-34088947600016.docx a été converti\n"
     ]
    },
    {
     "name": "stderr",
     "output_type": "stream",
     "text": [
      "\n",
      "\u001b[A"
     ]
    },
    {
     "name": "stdout",
     "output_type": "stream",
     "text": [
      "le dossier est: ../data/text/docx\\T08523008843-18850049000019.docx a été converti\n",
      "le dossier est: ../data/text/docx\\T08622002236-35318984800016.docx a été converti\n",
      "le dossier est: ../data/text/docx\\T08622002246-33934391500205.docx a été converti\n"
     ]
    },
    {
     "name": "stderr",
     "output_type": "stream",
     "text": [
      "\n",
      "\u001b[A\n",
      "\u001b[A"
     ]
    },
    {
     "name": "stdout",
     "output_type": "stream",
     "text": [
      "le dossier est: ../data/text/docx\\T08622002651-53525892500069.docx a été converti\n",
      "le dossier est: ../data/text/docx\\T08623002743-30206838200050.docx a été converti\n",
      "le dossier est: ../data/text/docx\\T08623003135-54595022200079.docx a été converti\n"
     ]
    },
    {
     "name": "stderr",
     "output_type": "stream",
     "text": [
      "\n",
      "\u001b[A"
     ]
    },
    {
     "name": "stdout",
     "output_type": "stream",
     "text": [
      "le dossier est: ../data/text/docx\\T08623003137-44283776100026.docx a été converti\n",
      "le dossier est: ../data/text/docx\\T08722002432-83430679700012.docx a été converti\n",
      "le dossier est: ../data/text/docx\\T08722002465-75750035000090.docx a été converti\n",
      "le dossier est: ../data/text/docx\\T08722002567-75850037500095.docx a été converti\n",
      "le dossier est: ../data/text/docx\\T08823003699-39969429800015.docx a été converti\n"
     ]
    },
    {
     "name": "stderr",
     "output_type": "stream",
     "text": [
      "\n",
      "\u001b[A\n",
      "\u001b[A"
     ]
    },
    {
     "name": "stdout",
     "output_type": "stream",
     "text": [
      "le dossier est: ../data/text/docx\\T08823003776-78342327000017.docx a été converti\n",
      "le dossier est: ../data/text/docx\\T08922001660-77864981400028.docx a été converti\n",
      "le dossier est: ../data/text/docx\\T08922002081-50565006900105.docx a été converti\n",
      "le dossier est: ../data/text/docx\\T08923002172-39060572300027.docx a été converti\n"
     ]
    },
    {
     "name": "stderr",
     "output_type": "stream",
     "text": [
      "\n",
      "\u001b[A\n",
      "\u001b[A"
     ]
    },
    {
     "name": "stdout",
     "output_type": "stream",
     "text": [
      "le dossier est: ../data/text/docx\\T08923002187-09575031100805.docx a été converti\n",
      "le dossier est: ../data/text/docx\\T08923002229-81973468200027.docx a été converti\n",
      "le dossier est: ../data/text/docx\\T08923002270-31535019900099.docx a été converti\n",
      "le dossier est: ../data/text/docx\\T09022001532-34994245800069.docx a été converti\n"
     ]
    },
    {
     "name": "stderr",
     "output_type": "stream",
     "text": [
      "\n",
      "\u001b[A\n",
      "\u001b[A"
     ]
    },
    {
     "name": "stdout",
     "output_type": "stream",
     "text": [
      "le dossier est: ../data/text/docx\\T09222030580-63203798200170.docx a été converti\n",
      "le dossier est: ../data/text/docx\\T09222030708-44445432600059.docx a été converti\n",
      "le dossier est: ../data/text/docx\\T09222031391-84471758700019.docx a été converti\n",
      "le dossier est: ../data/text/docx\\T09222031398-62204242200882.docx a été converti\n",
      "le dossier est: ../data/text/docx\\T09222031427-48913943601383.docx a été converti\n",
      "le dossier est: ../data/text/docx\\T09222031640-55208853600792.docx a été converti\n",
      "le dossier est: ../data/text/docx\\T09222031657-61202192300117.docx a été converti\n",
      "le dossier est: ../data/text/docx\\T09222031912-30910387700051.docx a été converti\n"
     ]
    },
    {
     "name": "stderr",
     "output_type": "stream",
     "text": [
      "\n",
      "\u001b[A"
     ]
    },
    {
     "name": "stdout",
     "output_type": "stream",
     "text": [
      "le dossier est: ../data/text/docx\\T09222032043-51871043900051.docx a été converti\n",
      "le dossier est: ../data/text/docx\\T09222032125-48420115700027.docx a été converti\n",
      "le dossier est: ../data/text/docx\\T09222032515-44302124100072.docx a été converti\n"
     ]
    },
    {
     "name": "stderr",
     "output_type": "stream",
     "text": [
      "\n",
      "\u001b[A\n",
      "\u001b[A"
     ]
    },
    {
     "name": "stdout",
     "output_type": "stream",
     "text": [
      "le dossier est: ../data/text/docx\\T09222033051-38061054300130.docx a été converti\n",
      "le dossier est: ../data/text/docx\\T09222033318-78439572500202.docx a été converti\n",
      "le dossier est: ../data/text/docx\\T09222033774-31461372000023.docx a été converti\n",
      "le dossier est: ../data/text/docx\\T09222034067-57222339400048.docx a été converti\n",
      "le dossier est: ../data/text/docx\\T09222034283-13002046400090.docx a été converti\n"
     ]
    },
    {
     "name": "stderr",
     "output_type": "stream",
     "text": [
      "\n",
      "\u001b[A\n",
      "\u001b[A"
     ]
    },
    {
     "name": "stdout",
     "output_type": "stream",
     "text": [
      "le dossier est: ../data/text/docx\\T09222034327-81476721600033.docx a été converti\n",
      "le dossier est: ../data/text/docx\\T09222034893-47835575300011.docx a été converti\n",
      "le dossier est: ../data/text/docx\\T09222035965-30418770100723.docx a été converti\n",
      "le dossier est: ../data/text/docx\\T09222036361-42041877400048.docx a été converti\n",
      "le dossier est: ../data/text/docx\\T09222036917-38268754900081.docx a été converti\n",
      "le dossier est: ../data/text/docx\\T09222037113-77567506900097.docx a été converti\n",
      "le dossier est: ../data/text/docx\\T09222037954-40280552700627.docx a été converti\n"
     ]
    },
    {
     "name": "stderr",
     "output_type": "stream",
     "text": [
      "\n",
      "\u001b[A"
     ]
    },
    {
     "name": "stdout",
     "output_type": "stream",
     "text": [
      "le dossier est: ../data/text/docx\\T09222037964-50725037100055.docx a été converti\n",
      "le dossier est: ../data/text/docx\\T09222037988-34500602701582.docx a été converti\n",
      "le dossier est: ../data/text/docx\\T09222038317-48765063200309.docx a été converti\n"
     ]
    },
    {
     "name": "stderr",
     "output_type": "stream",
     "text": [
      "\n",
      "\u001b[A"
     ]
    },
    {
     "name": "stdout",
     "output_type": "stream",
     "text": [
      "le dossier est: ../data/text/docx\\T09223039035-34892173500026.docx a été converti\n",
      "le dossier est: ../data/text/docx\\T09223039048-37816847000136.docx a été converti\n",
      "le dossier est: ../data/text/docx\\T09223039819-56209154601009.docx a été converti\n"
     ]
    },
    {
     "name": "stderr",
     "output_type": "stream",
     "text": [
      "\n",
      "\u001b[A\n",
      "\n"
     ]
    },
    {
     "name": "stdout",
     "output_type": "stream",
     "text": [
      "le dossier est: ../data/text/docx\\T09223040316-60205235900042.docx a été converti\n",
      "le dossier est: ../data/text/docx\\T09223040387-41990126900045.docx a été converti\n"
     ]
    },
    {
     "name": "stderr",
     "output_type": "stream",
     "text": [
      "Extracting text from docx files:  77%|███████▋  | 380/496 [00:24<00:11, 10.06files/s]\u001b[A\u001b[A\n",
      "\u001b[A"
     ]
    },
    {
     "name": "stdout",
     "output_type": "stream",
     "text": [
      "le dossier est: ../data/text/docx\\T09223040465-52903897800118.docx a été converti\n",
      "le dossier est: ../data/text/docx\\T09223040492-42060998400091.docx a été converti\n",
      "le dossier est: ../data/text/docx\\T09223040549-52525473600024.docx a été converti\n",
      "le dossier est: ../data/text/docx\\T09223040573-35219116701306.docx a été converti\n"
     ]
    },
    {
     "name": "stderr",
     "output_type": "stream",
     "text": [
      "\n",
      "\u001b[A\n",
      "\u001b[A"
     ]
    },
    {
     "name": "stdout",
     "output_type": "stream",
     "text": [
      "le dossier est: ../data/text/docx\\T09223040972-64201616603673.docx a été converti\n",
      "le dossier est: ../data/text/docx\\T09223041135-30116075000966.docx a été converti\n",
      "le dossier est: ../data/text/docx\\T09223041246-80869888000057.docx a été converti\n",
      "le dossier est: ../data/text/docx\\T09223041269-38012986648625.docx a été converti\n"
     ]
    },
    {
     "name": "stderr",
     "output_type": "stream",
     "text": [
      "\n",
      "\u001b[A"
     ]
    },
    {
     "name": "stdout",
     "output_type": "stream",
     "text": [
      "le dossier est: ../data/text/docx\\T09223041295-42470310600056.docx a été converti\n",
      "le dossier est: ../data/text/docx\\T09223041381-44958750000017.docx a été converti\n",
      "le dossier est: ../data/text/docx\\T09223042185-55201802001808.docx a été converti\n"
     ]
    },
    {
     "name": "stderr",
     "output_type": "stream",
     "text": [
      "\n",
      "\u001b[A"
     ]
    },
    {
     "name": "stdout",
     "output_type": "stream",
     "text": [
      "le dossier est: ../data/text/docx\\T09223042261-47980714100045.docx a été converti\n",
      "le dossier est: ../data/text/docx\\T09223042464-81193535200021.docx a été converti\n"
     ]
    },
    {
     "name": "stderr",
     "output_type": "stream",
     "text": [
      "\n",
      "\u001b[A\n",
      "\u001b[A"
     ]
    },
    {
     "name": "stdout",
     "output_type": "stream",
     "text": [
      "le dossier est: ../data/text/docx\\T09223042660-50165739900033.docx a été converti\n",
      "le dossier est: ../data/text/docx\\T09223043582-52339472400174.docx a été converti\n",
      "le dossier est: ../data/text/docx\\T09223043854-53440335700054.docx a été converti\n"
     ]
    },
    {
     "name": "stderr",
     "output_type": "stream",
     "text": [
      "\n",
      "\u001b[A\n",
      "\n"
     ]
    },
    {
     "name": "stdout",
     "output_type": "stream",
     "text": [
      "le dossier est: ../data/text/docx\\T09223044166-77567573903131.docx a été converti\n",
      "le dossier est: ../data/text/docx\\T09223060021-38822168100041.docx a été converti\n",
      "le dossier est: ../data/text/docx\\T09322008537-77567845100060.docx a été converti\n",
      "le dossier est: ../data/text/docx\\T09322008727-39155328600025.docx a été converti\n"
     ]
    },
    {
     "name": "stderr",
     "output_type": "stream",
     "text": [
      "Extracting text from docx files:  81%|████████  | 400/496 [00:25<00:07, 12.23files/s]\u001b[A\u001b[A\n",
      "\u001b[A"
     ]
    },
    {
     "name": "stdout",
     "output_type": "stream",
     "text": [
      "le dossier est: ../data/text/docx\\T09322008780-81040370900027.docx a été converti\n",
      "le dossier est: ../data/text/docx\\T09322008890-33817004600076.docx a été converti\n",
      "le dossier est: ../data/text/docx\\T09322008917-95420083800199.docx a été converti\n"
     ]
    },
    {
     "name": "stderr",
     "output_type": "stream",
     "text": [
      "\n",
      "\u001b[A"
     ]
    },
    {
     "name": "stdout",
     "output_type": "stream",
     "text": [
      "le dossier est: ../data/text/docx\\T09322008920-31104319400704.docx a été converti\n",
      "le dossier est: ../data/text/docx\\T09322008983-52010574300030.docx a été converti\n",
      "le dossier est: ../data/text/docx\\T09322009092-89530271900011.docx a été converti\n",
      "le dossier est: ../data/text/docx\\T09322009192-53105312200028.docx a été converti\n"
     ]
    },
    {
     "name": "stderr",
     "output_type": "stream",
     "text": [
      "\n",
      "\u001b[A\n",
      "\u001b[A"
     ]
    },
    {
     "name": "stdout",
     "output_type": "stream",
     "text": [
      "le dossier est: ../data/text/docx\\T09322009210-42138301900021.docx a été converti\n",
      "le dossier est: ../data/text/docx\\T09322009260-41204932200032.docx a été converti\n",
      "le dossier est: ../data/text/docx\\T09322009367-33390312800358.docx a été converti\n",
      "le dossier est: ../data/text/docx\\T09322009403-42507396200051.docx a été converti\n",
      "le dossier est: ../data/text/docx\\T09322009598-30251866700084.docx a été converti\n",
      "le dossier est: ../data/text/docx\\T09322009630-38953064300045.docx a été converti\n"
     ]
    },
    {
     "name": "stderr",
     "output_type": "stream",
     "text": [
      "\n",
      "\u001b[A\n",
      "\n",
      "Extracting text from docx files:  84%|████████▍ | 417/496 [00:26<00:03, 20.89files/s]"
     ]
    },
    {
     "name": "stdout",
     "output_type": "stream",
     "text": [
      "le dossier est: ../data/text/docx\\T09322009784-42828416000036.docx a été converti\n",
      "le dossier est: ../data/text/docx\\T09322010774-33159700500064.docx a été converti\n",
      "le dossier est: ../data/text/docx\\T09322010876-49038175300055.docx a été converti\n",
      "le dossier est: ../data/text/docx\\T09323011175-32213410700042.docx a été converti\n"
     ]
    },
    {
     "name": "stderr",
     "output_type": "stream",
     "text": [
      "\u001b[A\u001b[A"
     ]
    },
    {
     "name": "stdout",
     "output_type": "stream",
     "text": [
      "le dossier est: ../data/text/docx\\T09323011265-33817004600076.docx a été converti\n",
      "le dossier est: ../data/text/docx\\T09323011298-30129173800021.docx a été converti\n",
      "le dossier est: ../data/text/docx\\T09323011401-38272037300044.docx a été converti\n"
     ]
    },
    {
     "name": "stderr",
     "output_type": "stream",
     "text": [
      "\n",
      "\u001b[A\n",
      "\n"
     ]
    },
    {
     "name": "stdout",
     "output_type": "stream",
     "text": [
      "le dossier est: ../data/text/docx\\T09323011618-89530271900011.docx a été converti\n",
      "le dossier est: ../data/text/docx\\T09323012327-38975942400036.docx a été converti\n",
      "le dossier est: ../data/text/docx\\T09323012437-43259978500115.docx a été converti\n"
     ]
    },
    {
     "name": "stderr",
     "output_type": "stream",
     "text": [
      "Extracting text from docx files:  85%|████████▌ | 423/496 [00:27<00:04, 15.83files/s]\u001b[A\u001b[A\n",
      "\u001b[A"
     ]
    },
    {
     "name": "stdout",
     "output_type": "stream",
     "text": [
      "le dossier est: ../data/text/docx\\T09323012487-78879025100011.docx a été converti\n",
      "le dossier est: ../data/text/docx\\T09422008611-43392733200737.docx a été converti\n",
      "le dossier est: ../data/text/docx\\T09422008687-34008588500085.docx a été converti\n",
      "le dossier est: ../data/text/docx\\T09422008717-67200311800060.docx a été converti\n",
      "le dossier est: ../data/text/docx\\T09422008811-50359315400092.docx a été converti\n"
     ]
    },
    {
     "name": "stderr",
     "output_type": "stream",
     "text": [
      "\n",
      "\u001b[A\n",
      "\u001b[A"
     ]
    },
    {
     "name": "stdout",
     "output_type": "stream",
     "text": [
      "le dossier est: ../data/text/docx\\T09422009649-54207317600092.docx a été converti\n",
      "le dossier est: ../data/text/docx\\T09422010279-54202984802774.docx a été converti\n",
      "le dossier est: ../data/text/docx\\T09422010347-75388609200042.docx a été converti\n",
      "le dossier est: ../data/text/docx\\T09422010830-55200423600261.docx a été converti\n",
      "le dossier est: ../data/text/docx\\T09422010861-58201495700218.docx a été converti\n"
     ]
    },
    {
     "name": "stderr",
     "output_type": "stream",
     "text": [
      "\n",
      "\u001b[A\n",
      "\u001b[A"
     ]
    },
    {
     "name": "stdout",
     "output_type": "stream",
     "text": [
      "le dossier est: ../data/text/docx\\T09423011004-34515533700065.docx a été converti\n",
      "le dossier est: ../data/text/docx\\T09423011015-32775328100093.docx a été converti\n",
      "le dossier est: ../data/text/docx\\T09423011034-71206079700305.docx a été converti\n",
      "le dossier est: ../data/text/docx\\T09423011246-01725106700116.docx a été converti\n",
      "le dossier est: ../data/text/docx\\T09423011368-41426516500020.docx a été converti\n",
      "le dossier est: ../data/text/docx\\T09423011837-50457348600074.docx a été converti\n"
     ]
    },
    {
     "name": "stderr",
     "output_type": "stream",
     "text": [
      "\n",
      "\u001b[A\n",
      "\u001b[A"
     ]
    },
    {
     "name": "stdout",
     "output_type": "stream",
     "text": [
      "le dossier est: ../data/text/docx\\T09423012303-48471745900032.docx a été converti\n",
      "le dossier est: ../data/text/docx\\T09522005271-80855954600029.docx a été converti\n",
      "le dossier est: ../data/text/docx\\T09522005282-56212813200049.docx a été converti\n",
      "le dossier est: ../data/text/docx\\T09522005795-47831786000029.docx a été converti\n",
      "le dossier est: ../data/text/docx\\T09522006046-79836096200020.docx a été converti\n",
      "le dossier est: ../data/text/docx\\T09522006143-77572855300071.docx a été converti\n"
     ]
    },
    {
     "name": "stderr",
     "output_type": "stream",
     "text": [
      "\n",
      "\u001b[A\n",
      "\u001b[A"
     ]
    },
    {
     "name": "stdout",
     "output_type": "stream",
     "text": [
      "le dossier est: ../data/text/docx\\T09522006311-30157114700042.docx a été converti\n",
      "le dossier est: ../data/text/docx\\T20A22000674-32924515300013.docx a été converti\n",
      "le dossier est: ../data/text/docx\\T20A22000694-81524385200119.docx a été converti\n",
      "le dossier est: ../data/text/docx\\T20B22000638-85340919100014.docx a été converti\n"
     ]
    },
    {
     "name": "stderr",
     "output_type": "stream",
     "text": [
      "\n",
      "\u001b[A"
     ]
    },
    {
     "name": "stdout",
     "output_type": "stream",
     "text": [
      "le dossier est: ../data/text/docx\\T59L22015123-34518442800018.docx a été converti\n",
      "le dossier est: ../data/text/docx\\T59L22015251-39313045500073.docx a été converti\n",
      "le dossier est: ../data/text/docx\\T59L22015263-88548029300079.docx a été converti\n"
     ]
    },
    {
     "name": "stderr",
     "output_type": "stream",
     "text": [
      "\n",
      "\u001b[A"
     ]
    },
    {
     "name": "stdout",
     "output_type": "stream",
     "text": [
      "le dossier est: ../data/text/docx\\T59L22015288-42874890900416.docx a été converti\n",
      "le dossier est: ../data/text/docx\\T59L22015410-79523115800010.docx a été converti\n",
      "le dossier est: ../data/text/docx\\T59L22016184-43374453900423.docx a été converti\n",
      "le dossier est: ../data/text/docx\\T59L22016526-38947370300368.docx a été converti\n"
     ]
    },
    {
     "name": "stderr",
     "output_type": "stream",
     "text": [
      "\n",
      "\u001b[A"
     ]
    },
    {
     "name": "stdout",
     "output_type": "stream",
     "text": [
      "le dossier est: ../data/text/docx\\T59L22016569-34907809700020.docx a été converti\n",
      "le dossier est: ../data/text/docx\\T59L22016667-85271663800014.docx a été converti\n"
     ]
    },
    {
     "name": "stderr",
     "output_type": "stream",
     "text": [
      "\n",
      "\u001b[A\n",
      "\u001b[A"
     ]
    },
    {
     "name": "stdout",
     "output_type": "stream",
     "text": [
      "le dossier est: ../data/text/docx\\T59L22017497-78360128900037.docx a été converti\n",
      "le dossier est: ../data/text/docx\\T59L22017523-35121675900032.docx a été converti\n",
      "le dossier est: ../data/text/docx\\T59L22018437-40371572500152.docx a été converti\n",
      "le dossier est: ../data/text/docx\\T59L22018452-39051955100142.docx a été converti\n",
      "le dossier est: ../data/text/docx\\T59L23019186-33459455300011.docx a été converti\n",
      "le dossier est: ../data/text/docx\\T59L23019569-45650355600080.docx a été converti\n"
     ]
    },
    {
     "name": "stderr",
     "output_type": "stream",
     "text": [
      "\n",
      "\u001b[A\n",
      "\u001b[A"
     ]
    },
    {
     "name": "stdout",
     "output_type": "stream",
     "text": [
      "le dossier est: ../data/text/docx\\T59L23019663-83312097500010.docx a été converti\n",
      "le dossier est: ../data/text/docx\\T59L23019855-84903082000021.docx a été converti\n",
      "le dossier est: ../data/text/docx\\T59L23019946-37828898900023.docx a été converti\n",
      "le dossier est: ../data/text/docx\\T59L23019975-81362255200061.docx a été converti\n"
     ]
    },
    {
     "name": "stderr",
     "output_type": "stream",
     "text": [
      "\n",
      "\u001b[A\n",
      "\u001b[A"
     ]
    },
    {
     "name": "stdout",
     "output_type": "stream",
     "text": [
      "le dossier est: ../data/text/docx\\T59L23020048-83482227200011.docx a été converti\n",
      "le dossier est: ../data/text/docx\\T59L23020067-61682020500154.docx a été converti\n",
      "le dossier est: ../data/text/docx\\T59L23020344-41040895900014.docx a été converti\n",
      "le dossier est: ../data/text/docx\\T59L23020509-44482195300023.docx a été converti\n"
     ]
    },
    {
     "name": "stderr",
     "output_type": "stream",
     "text": [
      "\n",
      "\u001b[A\n",
      "\n"
     ]
    },
    {
     "name": "stdout",
     "output_type": "stream",
     "text": [
      "le dossier est: ../data/text/docx\\T59L23020556-47548331903685.docx a été converti\n",
      "le dossier est: ../data/text/docx\\T59L23020584-34395285900159.docx a été converti\n",
      "le dossier est: ../data/text/docx\\T59L23020650-41927031900066.docx a été converti\n",
      "le dossier est: ../data/text/docx\\T59L23020652-34738457002017.docx a été converti\n"
     ]
    },
    {
     "name": "stderr",
     "output_type": "stream",
     "text": [
      "Extracting text from docx files:  96%|█████████▌| 476/496 [00:30<00:01, 18.22files/s]\u001b[A\u001b[A\n",
      "\u001b[A"
     ]
    },
    {
     "name": "stdout",
     "output_type": "stream",
     "text": [
      "le dossier est: ../data/text/docx\\T59L23020806-88558170200010.docx a été converti\n",
      "le dossier est: ../data/text/docx\\T59L23021862-34085469400064.docx a été converti\n",
      "le dossier est: ../data/text/docx\\T59V22001947-40268412000031.docx a été converti\n"
     ]
    },
    {
     "name": "stderr",
     "output_type": "stream",
     "text": [
      "\n",
      "\u001b[A"
     ]
    },
    {
     "name": "stdout",
     "output_type": "stream",
     "text": [
      "le dossier est: ../data/text/docx\\T59V23002704-44552039800030.docx a été converti\n",
      "le dossier est: ../data/text/docx\\T59V23002739-55205802600022.docx a été converti\n",
      "le dossier est: ../data/text/docx\\T59V23002804-34794134600012.docx a été converti\n"
     ]
    },
    {
     "name": "stderr",
     "output_type": "stream",
     "text": [
      "\n",
      "\u001b[A\n",
      "\u001b[A"
     ]
    },
    {
     "name": "stdout",
     "output_type": "stream",
     "text": [
      "le dossier est: ../data/text/docx\\T59V23002823-81118402700019.docx a été converti\n",
      "le dossier est: ../data/text/docx\\T97122001245-40282534300021.docx a été converti\n",
      "le dossier est: ../data/text/docx\\T97122001392-53466135000023.docx a été converti\n",
      "le dossier est: ../data/text/docx\\T97122001499-54725010000047.docx a été converti\n",
      "le dossier est: ../data/text/docx\\T97222001725-52426181500012.docx a été converti\n",
      "le dossier est: ../data/text/docx\\T97222002094-47774653100011.docx a été converti\n"
     ]
    },
    {
     "name": "stderr",
     "output_type": "stream",
     "text": [
      "\n",
      "\u001b[A\n",
      "\u001b[A"
     ]
    },
    {
     "name": "stdout",
     "output_type": "stream",
     "text": [
      "le dossier est: ../data/text/docx\\T97222002102-81522514900021.docx a été converti\n",
      "le dossier est: ../data/text/docx\\T97222002145-88756981200019.docx a été converti\n",
      "le dossier est: ../data/text/docx\\T97223002448-30423499000055.docx a été converti\n",
      "le dossier est: ../data/text/docx\\T97322000544-51813782300028.docx a été converti\n"
     ]
    },
    {
     "name": "stderr",
     "output_type": "stream",
     "text": [
      "\n",
      "\u001b[A\n",
      "Extracting text from docx files: 100%|██████████| 496/496 [00:31<00:00, 15.80files/s]"
     ]
    },
    {
     "name": "stdout",
     "output_type": "stream",
     "text": [
      "le dossier est: ../data/text/docx\\T97422004866-31086264400039.docx a été converti\n",
      "le dossier est: ../data/text/docx\\T97423004991-32107347000031.docx a été converti\n",
      "le dossier est: ../data/text/docx\\T97423005202-83286671900012.docx a été converti\n",
      "le dossier est: ../data/text/docx\\T97423005414-41433522400021.docx a été converti\n",
      "=========\n",
      "All done!\n"
     ]
    },
    {
     "name": "stderr",
     "output_type": "stream",
     "text": [
      "\n"
     ]
    }
   ],
   "source": [
    "\"\"\"\n",
    "This code converts all .docx files in a directory to .txt files. It uses the pydocx library which read the xml content beneath a docx file and save the file as a .txt file.\n",
    "The procedure is faster than in 'convert_to_txt', count 15s for 206 files (0.07s per file).\n",
    "\"\"\"\n",
    "\n",
    "import os \n",
    "import glob\n",
    "from tqdm import tqdm\n",
    "from docx import Document\n",
    "\n",
    "def correct_docx_file_path(file_path):\n",
    "    \"\"\"\n",
    "    Correct the file path if it ends with .docx.docx instead of .docx\n",
    "\n",
    "    Args:\n",
    "        file_path (str): The path to the file.\n",
    "    \"\"\"\n",
    "    filename = os.path.basename(file_path)\n",
    "    if filename.endswith(\".docx.docx\"):\n",
    "        os.rename(file_path, file_path.replace(\".docx.docx\", \".docx\"))\n",
    "    else:\n",
    "        pass\n",
    "\n",
    "\n",
    "def extract_text_from_docx(file_path, output_directory):\n",
    "    \"\"\"\n",
    "    Extract text from a docx file and save it in a txt file.\n",
    "\n",
    "    Args:\n",
    "        file_path (str): The path to the docx file.\n",
    "        output_directory (str): The path to the directory where the txt file will be saved.\n",
    "    \"\"\"\n",
    "    doc = Document(file_path)\n",
    "    text = []\n",
    "\n",
    "    # Extraction des textes des paragraphes\n",
    "    for paragraph in doc.paragraphs:\n",
    "        text.append(paragraph.text)\n",
    "\n",
    "    # Create the output directory if it doesn't exist\n",
    "    os.makedirs(output_directory, exist_ok=True)\n",
    "\n",
    "    # Ecriture du texte extrait dans un nouveau fichier txt\n",
    "    with open(os.path.join(output_directory, os.path.basename(file_path) + \".txt\"), \"w\", encoding=\"utf-8\") as f:\n",
    "        for line in text:\n",
    "            f.write(line + \"\\n\")\n",
    "\n",
    "# Set your paths\n",
    "directory = r\"../data/text/docx\"\n",
    "docx_files = glob.glob(directory + \"/*.docx\")\n",
    "output_directory = r\"../data/text/txt\"\n",
    "\n",
    "if not docx_files:\n",
    "    print(\"No .docx files found in the specified directory.\")\n",
    "else:\n",
    "    for file_path in tqdm(docx_files, desc=\"Extracting text from docx files\", unit=\"files\"):\n",
    "        print(\"le dossier:\", file_path, \"a été converti\")\n",
    "        correct_docx_file_path(file_path)\n",
    "        extract_text_from_docx(file_path, output_directory)\n",
    "\n",
    "print(\"=========\")\n",
    "print(\"All done!\")"
   ]
  }
 ],
 "metadata": {
  "kernelspec": {
   "display_name": "Python 3",
   "language": "python",
   "name": "python3"
  },
  "language_info": {
   "codemirror_mode": {
    "name": "ipython",
    "version": 3
   },
   "file_extension": ".py",
   "mimetype": "text/x-python",
   "name": "python",
   "nbconvert_exporter": "python",
   "pygments_lexer": "ipython3",
   "version": "3.11.6"
  },
  "orig_nbformat": 4
 },
 "nbformat": 4,
 "nbformat_minor": 2
}
