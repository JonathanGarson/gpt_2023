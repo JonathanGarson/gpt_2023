{
 "cells": [
  {
   "attachments": {},
   "cell_type": "markdown",
   "id": "c8744091",
   "metadata": {},
   "source": [
    "# Confusion Matrix Code"
   ]
  },
  {
   "cell_type": "code",
   "execution_count": null,
   "id": "d120c622",
   "metadata": {},
   "outputs": [],
   "source": [
    "import spacy\n",
    "import json\n",
    "import numpy as np\n",
    "import pandas as pd\n",
    "import os"
   ]
  },
  {
   "cell_type": "code",
   "execution_count": null,
   "id": "1da7d5bb",
   "metadata": {},
   "outputs": [],
   "source": [
    "ROOT_PATH = r\"C:\\Users\\garsonj\\Desktop\\spacy_finetuning\\spacy_files\""
   ]
  },
  {
   "attachments": {},
   "cell_type": "markdown",
   "id": "2a7d6660",
   "metadata": {},
   "source": [
    "## True dataset"
   ]
  },
  {
   "attachments": {},
   "cell_type": "markdown",
   "id": "6f2e42e3",
   "metadata": {},
   "source": [
    "We build the data base to be treated"
   ]
  },
  {
   "cell_type": "code",
   "execution_count": null,
   "id": "8ccb137a",
   "metadata": {},
   "outputs": [],
   "source": [
    "def import_label_studio_data(filename, target_labels):\n",
    "    \"\"\"\n",
    "    This function imports the data from Label Studio JSON file and returns the data in the format required for training.\n",
    "    It also allows to select specific labels to train the model on with the \"target_labels\" argument.\n",
    "    \"\"\"\n",
    "\n",
    "    if not isinstance(target_labels, list):\n",
    "        raise ValueError(\"The 'target_labels' argument must be a list of strings.\")\n",
    "\n",
    "    TRAIN_DATA = []  # Initialize TRAIN_DATA\n",
    "    \n",
    "    with open(filename, 'rb') as fp:\n",
    "        training_data = json.load(fp)\n",
    "    for text in training_data:\n",
    "        entities = []\n",
    "        info = text.get('text')\n",
    "        entities = []\n",
    "        if text.get('label') is not None:\n",
    "            list_ = []\n",
    "            for label in text.get('label'):\n",
    "                list_.append([label.get('start'), label.get('end')])\n",
    "            a = np.array(list_)\n",
    "            overlap_ind = []\n",
    "            for i in range(0, len(a[:, 0])):\n",
    "                a_comp = a[i]\n",
    "                x = np.delete(a, (i), axis=0)\n",
    "                overlap_flag = any([a_comp[0] in range(j[0], j[1] + 1) for j in x])\n",
    "                if overlap_flag:\n",
    "                    overlap_ind.append(i)\n",
    "\n",
    "            for ind, label in enumerate(text.get('label')):\n",
    "                if ind in overlap_ind:\n",
    "                    iop = 0\n",
    "                else:\n",
    "                    if any(target in label.get('labels') for target in target_labels):\n",
    "                        entities.append((label.get('start'), label.get('end'), label.get('labels')[0]))\n",
    "        \n",
    "        if entities:  # Proceed only if there are non-empty entities\n",
    "            TRAIN_DATA.append((info, {\"entities\": entities}))\n",
    "\n",
    "    return TRAIN_DATA\n",
    "\n",
    "# Call the function with the filename and a list of target labels\n",
    "target_labels = ['OUV', 'INT', 'CAD', 'NOUV', 'NCAD', 'AG', 'AI', 'TOUS', 'AG OUV', 'AG INT', 'AG CAD', 'AI OUV', 'AI INT', 'AI CAD', 'NOUV AG', 'NCAD AG', 'NOUV AI', 'NCAD AI', 'ATOT',\\\n",
    "       'ATOT OUV', 'ATOT INT', 'ATOT CAD', 'PPV', 'PPVm', 'DATE'] # Add your target labels here\n",
    "\n",
    "# all = ['OUV', 'INT', 'CAD', 'NOUV', 'NCAD', 'AG', 'AI', 'TOUS', 'AG OUV', 'AG INT', 'AG CAD', 'AI OUV', 'AI INT', 'AI CAD', 'NOUV AG', 'NCAD AG', 'NOUV AI', 'NCAD AI', 'ATOT',\\\n",
    "#        'ATOT OUV', 'ATOT INT', 'ATOT CAD', 'PPV', 'PPVm', 'DATE']"
   ]
  },
  {
   "cell_type": "code",
   "execution_count": null,
   "id": "01e0d29a",
   "metadata": {},
   "outputs": [],
   "source": [
    "data_true = import_label_studio_data(os.path.join(ROOT_PATH, r\"data\\training_json\\data449.json\"), target_labels=target_labels)"
   ]
  },
  {
   "cell_type": "code",
   "execution_count": null,
   "id": "7f58c4cc",
   "metadata": {},
   "outputs": [],
   "source": [
    "# We make a data frame out of it with 1 when the label is present and 0 when it is not\n",
    "\n",
    "def spacy_to_dataframe(data):\n",
    "    \"\"\"\n",
    "    This function takes the data in the format returned by the import_label_studio_data function and returns a pandas dataframe of two columns: text and label.\n",
    "\n",
    "    Args:\n",
    "        data: The data in the format returned by the import_label_studio_data function.\n",
    "\n",
    "    Returns:\n",
    "        A pandas dataframe of two columns: text and label.\n",
    "    \"\"\"\n",
    "    text_data = [text for text, _ in data]\n",
    "    labels = [label for _, label in data]\n",
    "\n",
    "    df = pd.DataFrame({'text': text_data, 'label': labels})\n",
    "    return df\n",
    "\n",
    "# text_data = [text for text, _ in data]\n",
    "# labels = [label for _, label in data]\n",
    "\n",
    "# df = pd.DataFrame({'text': text_data, 'label': labels})\n",
    "\n",
    "df_true = spacy_to_dataframe(data_true)\n",
    "df_true.tail()"
   ]
  },
  {
   "cell_type": "code",
   "execution_count": null,
   "id": "40c9197e",
   "metadata": {},
   "outputs": [],
   "source": [
    "def dummy_label(df):\n",
    "    \"\"\"\n",
    "    This function creates a dummy variable for the target label.\n",
    "\n",
    "    Args:\n",
    "        df (DataFrame): The DataFrame containing the text and label columns.\n",
    "    \"\"\"\n",
    "    # Create a new column called \"label_dummy\" and initialize with zeros\n",
    "    df[\"label_dummy\"] = 0\n",
    "\n",
    "    # Iterate through each row in the DataFrame\n",
    "    for index, row in df.iterrows():\n",
    "        labels = row[\"label\"][\"entities\"]  # Access the entities list in the tuple\n",
    "        for label in labels:\n",
    "            target = label[2]\n",
    "            if target == \"PPV\":\n",
    "                df.at[index, \"label_dummy\"] = 1  # Set the value to 1 for the current row\n",
    "\n",
    "    # Print the DataFrame to verify the changes\n",
    "    print(df[\"label_dummy\"].value_counts())\n",
    "    return df\n",
    "\n",
    "def clean_dataset(data):\n",
    "    \"\"\"\n",
    "    This function cleans the dataset by removing rows with missing values and dropping the \"label\" column.\n",
    "    It also renames the \"label_dummy\" column to \"label\".\n",
    "\n",
    "    Args:\n",
    "        data (DataFrame): The DataFrame containing the text, label and label_dummy columns.\n",
    "    \"\"\"\n",
    "    data.dropna(axis=0, how='any', inplace=True)\n",
    "    # Now we can drop the \"label\" column and rename the \"label_dummy\" column to \"label\"\n",
    "    if 'label_dummy' in data.columns:\n",
    "        data.drop(\"label\", axis=1, inplace=True)\n",
    "        data.rename(columns={\"label_dummy\": \"label\"}, inplace=True)\n",
    "    else:\n",
    "        pass\n",
    "    print(data.head())\n",
    "    return data\n",
    "\n",
    "df_true = dummy_label(df_true)\n",
    "df_true = clean_dataset(df_true)"
   ]
  },
  {
   "attachments": {},
   "cell_type": "markdown",
   "id": "1e424d5d",
   "metadata": {},
   "source": [
    "## Predicted dataset"
   ]
  },
  {
   "attachments": {},
   "cell_type": "markdown",
   "id": "e55c7729",
   "metadata": {},
   "source": [
    "Now we do the data set with the predicted answer"
   ]
  },
  {
   "cell_type": "code",
   "execution_count": null,
   "id": "fa1b0cfa",
   "metadata": {},
   "outputs": [],
   "source": [
    "with open(os.path.join(ROOT_PATH, r\"data\\predicted_json\\labeled_data_PPV.json\"), \"r\", encoding=\"utf-8\") as f:\n",
    "    data_pred = json.load(f)"
   ]
  },
  {
   "cell_type": "code",
   "execution_count": null,
   "id": "a70df4a6",
   "metadata": {},
   "outputs": [],
   "source": [
    "def dummy_label_pred(df):\n",
    "    \"\"\"\n",
    "    This function creates a dummy variable for the target label.\n",
    "\n",
    "    Args:\n",
    "        df (DataFrame): The DataFrame containing the text and label columns.\n",
    "    \"\"\"\n",
    "    # Create a new column called \"label_dummy\" and initialize with zeros\n",
    "    df[\"label_dummy\"] = 0\n",
    "\n",
    "    for index, row in df_pred.iterrows():\n",
    "        label_data = row['label']\n",
    "        if label_data == {'label': []}:\n",
    "            df_pred.at[index, 'label_dummy'] = 0\n",
    "        else:\n",
    "            df_pred.at[index, 'label_dummy'] = 1\n",
    "\n",
    "    # Print the DataFrame to verify the changes\n",
    "    print(df[\"label_dummy\"].value_counts())\n",
    "    return df\n",
    "\n",
    "\n",
    "\n",
    "df_pred = spacy_to_dataframe(data_pred)\n",
    "df_pred = dummy_label_pred(df_pred)\n",
    "df_pred = clean_dataset(df_pred)\n",
    "df_pred.head()"
   ]
  },
  {
   "attachments": {},
   "cell_type": "markdown",
   "id": "fc72778a",
   "metadata": {},
   "source": [
    "We order the two data sets"
   ]
  },
  {
   "cell_type": "code",
   "execution_count": null,
   "id": "ef180793",
   "metadata": {},
   "outputs": [],
   "source": [
    "df_whole = pd.merge(left=df_true, right=df_pred, on='text', how=\"inner\")"
   ]
  },
  {
   "attachments": {},
   "cell_type": "markdown",
   "id": "b9974df0",
   "metadata": {},
   "source": [
    "## Plotting the matrix of confusion"
   ]
  },
  {
   "cell_type": "code",
   "execution_count": null,
   "id": "b6c5f151",
   "metadata": {},
   "outputs": [],
   "source": [
    "true_label_data = df_whole['label_x'].tolist()\n",
    "pred_label_data = df_whole['label_y'].tolist()"
   ]
  },
  {
   "cell_type": "code",
   "execution_count": null,
   "id": "871e1df0",
   "metadata": {},
   "outputs": [],
   "source": [
    "print(len(true_label_data))\n",
    "print(len(pred_label_data))"
   ]
  },
  {
   "cell_type": "code",
   "execution_count": null,
   "id": "579ce5da",
   "metadata": {},
   "outputs": [],
   "source": [
    "import matplotlib.pyplot as plt\n",
    "import seaborn as sns\n",
    "from sklearn.metrics import confusion_matrix\n",
    "\n",
    "confusion = confusion_matrix(true_label_data, pred_label_data)\n",
    "\n",
    "# Assuming you have already created the heatmap\n",
    "plt.figure(figsize=(8, 6))\n",
    "sns.set(font_scale=1.2)  # Adjust font size if needed\n",
    "sns.heatmap(confusion, annot=True, fmt='d', cmap='Blues', xticklabels=['0', 'PPV'], yticklabels=['0', 'PPV'])\n",
    "plt.xlabel('Predicted Labels')\n",
    "plt.ylabel('True Labels')\n",
    "plt.title('Confusion Matrix')\n",
    "plt.show()\n",
    "\n",
    "# Print the values\n",
    "print(confusion)\n"
   ]
  },
  {
   "cell_type": "code",
   "execution_count": null,
   "id": "68165746",
   "metadata": {},
   "outputs": [],
   "source": [
    "type(confusion)"
   ]
  },
  {
   "attachments": {},
   "cell_type": "markdown",
   "id": "7b8d2684",
   "metadata": {},
   "source": [
    "We display the key statistics"
   ]
  },
  {
   "cell_type": "code",
   "execution_count": null,
   "id": "47faf2b5",
   "metadata": {},
   "outputs": [],
   "source": [
    "# Calculate True Positives (TP), False Positives (FP), and False Negatives (FN)\n",
    "TN = confusion[0, 0]\n",
    "FP = confusion[0, 1]\n",
    "FN = confusion[1, 0]\n",
    "TP = confusion[1, 1]\n",
    "\n",
    "# Calculate precision and recall\n",
    "precision = TP / (TP + FP)\n",
    "recall = TP / (TP + FN)\n",
    "f1_score = 2 * (precision * recall) / (precision + recall)\n",
    "\n",
    "print(\"Precision:\", precision)\n",
    "print(\"Recall:\", recall)\n",
    "print(\"F1 Score:\", f1_score)"
   ]
  }
 ],
 "metadata": {
  "kernelspec": {
   "display_name": "Python 3 (ipykernel)",
   "language": "python",
   "name": "python3"
  },
  "language_info": {
   "codemirror_mode": {
    "name": "ipython",
    "version": 3
   },
   "file_extension": ".py",
   "mimetype": "text/x-python",
   "name": "python",
   "nbconvert_exporter": "python",
   "pygments_lexer": "ipython3",
<<<<<<< HEAD
   "version": "3.11.6"
=======
   "version": "3.11.4"
>>>>>>> 4407c240ed26621f842ce74ed8fe6cb11a54709f
  }
 },
 "nbformat": 4,
 "nbformat_minor": 5
}
